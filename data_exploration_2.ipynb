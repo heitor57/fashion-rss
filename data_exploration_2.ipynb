{
 "cells": [
  {
   "cell_type": "code",
   "execution_count": 17,
   "metadata": {},
   "outputs": [],
   "source": [
    "import dataset\n",
    "import functools\n",
    "import itertools\n",
    "import pandas as pd\n",
    "import sklearn\n",
    "import pandas as pd\n",
    "import joblib\n",
    "import torch\n",
    "import value_functions\n",
    "import os.path\n",
    "import constants\n",
    "import neural_networks\n",
    "import loss_functions\n",
    "import recommenders\n",
    "import matplotlib.pyplot as plt\n",
    "import numpy as np\n",
    "from tqdm import tqdm\n",
    "import time\n",
    "import dataset\n",
    "import utils\n",
    "\n",
    "\n",
    "import pandas as pd\n",
    "import matplotlib.pyplot as plt\n",
    "import numpy as np\n",
    "from tqdm import tqdm\n",
    "import time\n",
    "plt.style.reload_library()\n",
    "plt.style.use(['science','notebook'])\n",
    "plt.rcParams['figure.figsize'] = [12/2, 8/2]\n",
    "plt.rcParams['figure.dpi'] = 100 # 200 e.g. is really fine, but slower"
   ]
  },
  {
   "cell_type": "code",
   "execution_count": 37,
   "metadata": {},
   "outputs": [],
   "source": [
    "train_df, test_df, attributes_df, user_int_ids, product_int_ids = dataset.farfetch_train_test_normalization(\n",
    "    # dataset.parquet_load(file_name=f'data_phase1/train.parquet'),\n",
    "    dataset.parquet_load(file_name='data_phase1/train.parquet'),\n",
    "    # dataset.parquet_load(file_name='data_phase1/validation.parquet'),\n",
    "    dataset.parquet_load(file_name='data_phase1/validation.parquet'),\n",
    "    dataset.parquet_load(file_name='data_phase1/attributes.parquet'))"
   ]
  },
  {
   "cell_type": "code",
   "execution_count": 2,
   "metadata": {},
   "outputs": [],
   "source": [
    "attributes_df = dataset.parquet_load(file_name='data_phase1/attributes.parquet')"
   ]
  },
  {
   "cell_type": "code",
   "execution_count": 3,
   "metadata": {},
   "outputs": [
    {
     "data": {
      "text/html": [
       "<div>\n",
       "<style scoped>\n",
       "    .dataframe tbody tr th:only-of-type {\n",
       "        vertical-align: middle;\n",
       "    }\n",
       "\n",
       "    .dataframe tbody tr th {\n",
       "        vertical-align: top;\n",
       "    }\n",
       "\n",
       "    .dataframe thead th {\n",
       "        text-align: right;\n",
       "    }\n",
       "</style>\n",
       "<table border=\"1\" class=\"dataframe\">\n",
       "  <thead>\n",
       "    <tr style=\"text-align: right;\">\n",
       "      <th></th>\n",
       "      <th>product_id</th>\n",
       "      <th>gender</th>\n",
       "      <th>main_colour</th>\n",
       "      <th>second_colour</th>\n",
       "      <th>season</th>\n",
       "      <th>collection</th>\n",
       "      <th>category_id_l1</th>\n",
       "      <th>category_id_l2</th>\n",
       "      <th>category_id_l3</th>\n",
       "      <th>brand_id</th>\n",
       "      <th>season_year</th>\n",
       "      <th>start_online_date</th>\n",
       "      <th>material_values</th>\n",
       "      <th>attribute_values</th>\n",
       "    </tr>\n",
       "  </thead>\n",
       "  <tbody>\n",
       "    <tr>\n",
       "      <th>0</th>\n",
       "      <td>0013f07ccdf212210c110e63f0de46e37669c17a4d855a...</td>\n",
       "      <td>a8c9cca4c116691f1e331a5058e84f05e31696bc4f611c...</td>\n",
       "      <td>7673fc4fdc325f3785a223787d2b32e381e8b4c1c8a765...</td>\n",
       "      <td>4737cd35940c2338e96c18a25aeb6848d46f0da795bce8...</td>\n",
       "      <td>847a067597e39838f1f85b0774f44e68b4d6e64d3ec4dd...</td>\n",
       "      <td>a3791e8d85c005b0d9d60d6d3b7e8edd2f256a5cc928d0...</td>\n",
       "      <td>abf367e49718254e068eee51a565fdcede2d741e4c7e33...</td>\n",
       "      <td>61fe255948ec07c4eb25c70f7144b54beddd00466ad866...</td>\n",
       "      <td>05f872d8b8ec85642ad49786d6e443c0df6e7df4bdcba3...</td>\n",
       "      <td>dd6ea8954a945ef0889f30d57b7fdb8d6aaad397e6c6ff...</td>\n",
       "      <td>c7c4ac6af030e54d02b9e4545e4223e76515c3ce4e498e...</td>\n",
       "      <td>1067.041667</td>\n",
       "      <td>f61ecea9b45f1590e57706b88207449bdd4cb703b917ad...</td>\n",
       "      <td>8b45c5d5e010acf257787f2ce0c505857d94709c436991...</td>\n",
       "    </tr>\n",
       "    <tr>\n",
       "      <th>1</th>\n",
       "      <td>002239cd57f19f22e557030dff363dfbd1344d8f7ac829...</td>\n",
       "      <td>4a00d8b84bdb2ec2f219304d3883a46336f9fb38d2f1e6...</td>\n",
       "      <td>0f97dafafa5dc4bb18853ea00776dfcc52302f40411b50...</td>\n",
       "      <td>ca8c396e7422e324d4454a911e0319d07b85a4fb89b006...</td>\n",
       "      <td>9db35d237f5873f0410d3ca18c07430270086eb1e7838d...</td>\n",
       "      <td>a3791e8d85c005b0d9d60d6d3b7e8edd2f256a5cc928d0...</td>\n",
       "      <td>e54f8513b708db3afdbd4950bd3420579a8cddabf4c1b3...</td>\n",
       "      <td>3809cade495cd7dc289e6aee521d380549ebd3456f03bc...</td>\n",
       "      <td>fd021cd2dbaf0d7b6105a1b136cf5a094e025010a2096f...</td>\n",
       "      <td>a6536c6bc250d525ccd3b63a3ec483a33a2010422932a3...</td>\n",
       "      <td>ef7d8d2e02aec8c328dafde95486f7181c37d07be3d167...</td>\n",
       "      <td>215.041667</td>\n",
       "      <td>1675f293342bbb518ba3a5ad39399aa0a13580653d253e...</td>\n",
       "      <td>ca8c396e7422e324d4454a911e0319d07b85a4fb89b006...</td>\n",
       "    </tr>\n",
       "    <tr>\n",
       "      <th>2</th>\n",
       "      <td>0028022e1ecbbf92f03a1edb9accb58e7c682e7cd89897...</td>\n",
       "      <td>a8c9cca4c116691f1e331a5058e84f05e31696bc4f611c...</td>\n",
       "      <td>0f97dafafa5dc4bb18853ea00776dfcc52302f40411b50...</td>\n",
       "      <td>ca8c396e7422e324d4454a911e0319d07b85a4fb89b006...</td>\n",
       "      <td>9db35d237f5873f0410d3ca18c07430270086eb1e7838d...</td>\n",
       "      <td>4c8006c7e513057a9138641abc2a9e65f4b014a8045259...</td>\n",
       "      <td>bb660069187af9e9238d10a742def09bf2bed60435b088...</td>\n",
       "      <td>8d4b33036479822fc696f32e1252b16e5105b91b82d564...</td>\n",
       "      <td>ca8c396e7422e324d4454a911e0319d07b85a4fb89b006...</td>\n",
       "      <td>c9c2f76b2ae7911c95e1b9568a614c14bd0eebc750cade...</td>\n",
       "      <td>dc1194ba428d5cd4c49f8a769a6577ac1042162da38bc1...</td>\n",
       "      <td>519.000000</td>\n",
       "      <td>5254281b3c0b606d2c56ae1747cf0b0a868053cc3246d2...</td>\n",
       "      <td>ca8c396e7422e324d4454a911e0319d07b85a4fb89b006...</td>\n",
       "    </tr>\n",
       "    <tr>\n",
       "      <th>3</th>\n",
       "      <td>00433de93d9cb6b08584423a6b54306abacef89fbddffe...</td>\n",
       "      <td>a8c9cca4c116691f1e331a5058e84f05e31696bc4f611c...</td>\n",
       "      <td>9a446cf5272a0694254db28c796c058405fc9caeb6352f...</td>\n",
       "      <td>ca8c396e7422e324d4454a911e0319d07b85a4fb89b006...</td>\n",
       "      <td>9db35d237f5873f0410d3ca18c07430270086eb1e7838d...</td>\n",
       "      <td>a3791e8d85c005b0d9d60d6d3b7e8edd2f256a5cc928d0...</td>\n",
       "      <td>abf367e49718254e068eee51a565fdcede2d741e4c7e33...</td>\n",
       "      <td>c71ada9c30cd0210a4bdd2d54172dc7be4f07c9ffdbaa3...</td>\n",
       "      <td>f9226009034d0eecc774be42fbe07e9cdcf9ca5dd24fb5...</td>\n",
       "      <td>2f85e4e89f3d731a3fcc43c1ea068600dc082d9b2656de...</td>\n",
       "      <td>ef7d8d2e02aec8c328dafde95486f7181c37d07be3d167...</td>\n",
       "      <td>202.041667</td>\n",
       "      <td>2a9ca66cf16c629b4d0fb6d78e988a199db1490ef21d78...</td>\n",
       "      <td>ca8c396e7422e324d4454a911e0319d07b85a4fb89b006...</td>\n",
       "    </tr>\n",
       "    <tr>\n",
       "      <th>4</th>\n",
       "      <td>009623ea17e53324f8f5a3f45f5b21b9a885ea2765de82...</td>\n",
       "      <td>a8c9cca4c116691f1e331a5058e84f05e31696bc4f611c...</td>\n",
       "      <td>68b6499cff2b4a31b0927effd65c194c69c24954fcb80b...</td>\n",
       "      <td>ca8c396e7422e324d4454a911e0319d07b85a4fb89b006...</td>\n",
       "      <td>9db35d237f5873f0410d3ca18c07430270086eb1e7838d...</td>\n",
       "      <td>b5beb2ed60981746e0b908797b3d3abb8491de15ff5575...</td>\n",
       "      <td>abf367e49718254e068eee51a565fdcede2d741e4c7e33...</td>\n",
       "      <td>c71ada9c30cd0210a4bdd2d54172dc7be4f07c9ffdbaa3...</td>\n",
       "      <td>162f8b725de80863b3ced87304a2922fe3d1bd1f25562f...</td>\n",
       "      <td>668b3eeef29561fa9dd4da956ca3eb2787b2d8df515eed...</td>\n",
       "      <td>ef7d8d2e02aec8c328dafde95486f7181c37d07be3d167...</td>\n",
       "      <td>211.041667</td>\n",
       "      <td>d276da9d2047f312bb486b3b59a646f046d72bc3cf2e19...</td>\n",
       "      <td>ca8c396e7422e324d4454a911e0319d07b85a4fb89b006...</td>\n",
       "    </tr>\n",
       "  </tbody>\n",
       "</table>\n",
       "</div>"
      ],
      "text/plain": [
       "                                          product_id  \\\n",
       "0  0013f07ccdf212210c110e63f0de46e37669c17a4d855a...   \n",
       "1  002239cd57f19f22e557030dff363dfbd1344d8f7ac829...   \n",
       "2  0028022e1ecbbf92f03a1edb9accb58e7c682e7cd89897...   \n",
       "3  00433de93d9cb6b08584423a6b54306abacef89fbddffe...   \n",
       "4  009623ea17e53324f8f5a3f45f5b21b9a885ea2765de82...   \n",
       "\n",
       "                                              gender  \\\n",
       "0  a8c9cca4c116691f1e331a5058e84f05e31696bc4f611c...   \n",
       "1  4a00d8b84bdb2ec2f219304d3883a46336f9fb38d2f1e6...   \n",
       "2  a8c9cca4c116691f1e331a5058e84f05e31696bc4f611c...   \n",
       "3  a8c9cca4c116691f1e331a5058e84f05e31696bc4f611c...   \n",
       "4  a8c9cca4c116691f1e331a5058e84f05e31696bc4f611c...   \n",
       "\n",
       "                                         main_colour  \\\n",
       "0  7673fc4fdc325f3785a223787d2b32e381e8b4c1c8a765...   \n",
       "1  0f97dafafa5dc4bb18853ea00776dfcc52302f40411b50...   \n",
       "2  0f97dafafa5dc4bb18853ea00776dfcc52302f40411b50...   \n",
       "3  9a446cf5272a0694254db28c796c058405fc9caeb6352f...   \n",
       "4  68b6499cff2b4a31b0927effd65c194c69c24954fcb80b...   \n",
       "\n",
       "                                       second_colour  \\\n",
       "0  4737cd35940c2338e96c18a25aeb6848d46f0da795bce8...   \n",
       "1  ca8c396e7422e324d4454a911e0319d07b85a4fb89b006...   \n",
       "2  ca8c396e7422e324d4454a911e0319d07b85a4fb89b006...   \n",
       "3  ca8c396e7422e324d4454a911e0319d07b85a4fb89b006...   \n",
       "4  ca8c396e7422e324d4454a911e0319d07b85a4fb89b006...   \n",
       "\n",
       "                                              season  \\\n",
       "0  847a067597e39838f1f85b0774f44e68b4d6e64d3ec4dd...   \n",
       "1  9db35d237f5873f0410d3ca18c07430270086eb1e7838d...   \n",
       "2  9db35d237f5873f0410d3ca18c07430270086eb1e7838d...   \n",
       "3  9db35d237f5873f0410d3ca18c07430270086eb1e7838d...   \n",
       "4  9db35d237f5873f0410d3ca18c07430270086eb1e7838d...   \n",
       "\n",
       "                                          collection  \\\n",
       "0  a3791e8d85c005b0d9d60d6d3b7e8edd2f256a5cc928d0...   \n",
       "1  a3791e8d85c005b0d9d60d6d3b7e8edd2f256a5cc928d0...   \n",
       "2  4c8006c7e513057a9138641abc2a9e65f4b014a8045259...   \n",
       "3  a3791e8d85c005b0d9d60d6d3b7e8edd2f256a5cc928d0...   \n",
       "4  b5beb2ed60981746e0b908797b3d3abb8491de15ff5575...   \n",
       "\n",
       "                                      category_id_l1  \\\n",
       "0  abf367e49718254e068eee51a565fdcede2d741e4c7e33...   \n",
       "1  e54f8513b708db3afdbd4950bd3420579a8cddabf4c1b3...   \n",
       "2  bb660069187af9e9238d10a742def09bf2bed60435b088...   \n",
       "3  abf367e49718254e068eee51a565fdcede2d741e4c7e33...   \n",
       "4  abf367e49718254e068eee51a565fdcede2d741e4c7e33...   \n",
       "\n",
       "                                      category_id_l2  \\\n",
       "0  61fe255948ec07c4eb25c70f7144b54beddd00466ad866...   \n",
       "1  3809cade495cd7dc289e6aee521d380549ebd3456f03bc...   \n",
       "2  8d4b33036479822fc696f32e1252b16e5105b91b82d564...   \n",
       "3  c71ada9c30cd0210a4bdd2d54172dc7be4f07c9ffdbaa3...   \n",
       "4  c71ada9c30cd0210a4bdd2d54172dc7be4f07c9ffdbaa3...   \n",
       "\n",
       "                                      category_id_l3  \\\n",
       "0  05f872d8b8ec85642ad49786d6e443c0df6e7df4bdcba3...   \n",
       "1  fd021cd2dbaf0d7b6105a1b136cf5a094e025010a2096f...   \n",
       "2  ca8c396e7422e324d4454a911e0319d07b85a4fb89b006...   \n",
       "3  f9226009034d0eecc774be42fbe07e9cdcf9ca5dd24fb5...   \n",
       "4  162f8b725de80863b3ced87304a2922fe3d1bd1f25562f...   \n",
       "\n",
       "                                            brand_id  \\\n",
       "0  dd6ea8954a945ef0889f30d57b7fdb8d6aaad397e6c6ff...   \n",
       "1  a6536c6bc250d525ccd3b63a3ec483a33a2010422932a3...   \n",
       "2  c9c2f76b2ae7911c95e1b9568a614c14bd0eebc750cade...   \n",
       "3  2f85e4e89f3d731a3fcc43c1ea068600dc082d9b2656de...   \n",
       "4  668b3eeef29561fa9dd4da956ca3eb2787b2d8df515eed...   \n",
       "\n",
       "                                         season_year  start_online_date  \\\n",
       "0  c7c4ac6af030e54d02b9e4545e4223e76515c3ce4e498e...        1067.041667   \n",
       "1  ef7d8d2e02aec8c328dafde95486f7181c37d07be3d167...         215.041667   \n",
       "2  dc1194ba428d5cd4c49f8a769a6577ac1042162da38bc1...         519.000000   \n",
       "3  ef7d8d2e02aec8c328dafde95486f7181c37d07be3d167...         202.041667   \n",
       "4  ef7d8d2e02aec8c328dafde95486f7181c37d07be3d167...         211.041667   \n",
       "\n",
       "                                     material_values  \\\n",
       "0  f61ecea9b45f1590e57706b88207449bdd4cb703b917ad...   \n",
       "1  1675f293342bbb518ba3a5ad39399aa0a13580653d253e...   \n",
       "2  5254281b3c0b606d2c56ae1747cf0b0a868053cc3246d2...   \n",
       "3  2a9ca66cf16c629b4d0fb6d78e988a199db1490ef21d78...   \n",
       "4  d276da9d2047f312bb486b3b59a646f046d72bc3cf2e19...   \n",
       "\n",
       "                                    attribute_values  \n",
       "0  8b45c5d5e010acf257787f2ce0c505857d94709c436991...  \n",
       "1  ca8c396e7422e324d4454a911e0319d07b85a4fb89b006...  \n",
       "2  ca8c396e7422e324d4454a911e0319d07b85a4fb89b006...  \n",
       "3  ca8c396e7422e324d4454a911e0319d07b85a4fb89b006...  \n",
       "4  ca8c396e7422e324d4454a911e0319d07b85a4fb89b006...  "
      ]
     },
     "execution_count": 3,
     "metadata": {},
     "output_type": "execute_result"
    }
   ],
   "source": [
    "attributes_df.head()"
   ]
  },
  {
   "cell_type": "code",
   "execution_count": 4,
   "metadata": {},
   "outputs": [],
   "source": [
    "train_df = dataset.parquet_load(file_name='data_phase1/train.parquet')"
   ]
  },
  {
   "cell_type": "code",
   "execution_count": 5,
   "metadata": {},
   "outputs": [],
   "source": [
    "validation_df = dataset.parquet_load(file_name='data_phase1/validation.parquet')"
   ]
  },
  {
   "cell_type": "code",
   "execution_count": 6,
   "metadata": {},
   "outputs": [],
   "source": [
    "full_df = pd.concat([train_df.drop('is_click',axis=1),validation_df],axis=0)"
   ]
  },
  {
   "cell_type": "code",
   "execution_count": 7,
   "metadata": {},
   "outputs": [
    {
     "data": {
      "text/plain": [
       "(4195182, 15)"
      ]
     },
     "execution_count": 7,
     "metadata": {},
     "output_type": "execute_result"
    }
   ],
   "source": [
    "full_df.shape"
   ]
  },
  {
   "cell_type": "code",
   "execution_count": null,
   "metadata": {},
   "outputs": [],
   "source": []
  },
  {
   "cell_type": "code",
   "execution_count": 14,
   "metadata": {},
   "outputs": [
    {
     "data": {
      "text/plain": [
       "<AxesSubplot:xlabel='week'>"
      ]
     },
     "execution_count": 14,
     "metadata": {},
     "output_type": "execute_result"
    },
    {
     "data": {
      "image/png": "[encoded data removed]",
      "text/plain": [
       "<Figure size 432x288 with 1 Axes>"
      ]
     },
     "metadata": {
      "needs_background": "light"
     },
     "output_type": "display_data"
    }
   ],
   "source": [
    "# fig, ax =plt.subplots()\n",
    "\n",
    "train_df.groupby(['week'])['query_id'].nunique().plot(kind=\"bar\")"
   ]
  },
  {
   "cell_type": "code",
   "execution_count": 64,
   "metadata": {},
   "outputs": [],
   "source": [
    "# x = train_df[train_df.is_click>0].groupby('product_id')['user_id'].nunique().sort_values(ascending=False)\n",
    "items_popularity = np.zeros(len(attributes_df.product_id))\n",
    "# items_popularity = np.zeros(len(dataset['items_attributes']))\n",
    "for user_id, product_id in train_df[train_df.is_click>0].groupby(['user_id','product_id']).count().reset_index()[['user_id','product_id']].iterrows():\n",
    "#     print(user_id,product_id)\n",
    "#     break\n",
    "#     print(\n",
    "    items_popularity[product_id['product_id']] +=1\n",
    "#     print(items_popularity[product_id])"
   ]
  },
  {
   "cell_type": "code",
   "execution_count": 65,
   "metadata": {},
   "outputs": [
    {
     "data": {
      "image/png": "[encoded data removed]",
      "text/plain": [
       "<Figure size 1300x350 with 2 Axes>"
      ]
     },
     "metadata": {
      "needs_background": "light"
     },
     "output_type": "display_data"
    }
   ],
   "source": [
    "fig, axs = plt.subplots(ncols=2,figsize=(13,3.5))\n",
    "ax = axs[0]\n",
    "ax.plot(np.sort(items_popularity)[::-1])\n",
    "ax.set_yscale('log')\n",
    "ax.set_xscale('log')\n",
    "ax.set_ylabel('Popularidade (log)')\n",
    "ax.set_xlabel('Itens (log)')\n",
    "ax = axs[1]\n",
    "ax.plot(np.sort(items_popularity)[::-1])\n",
    "# ax.plot(train_df[train_df.is_click>0].groupby('product_id')['user_id'].nunique().sort_values(ascending=False).to_numpy())\n",
    "ax.set_ylabel('Popularidade')\n",
    "ax.set_xlabel('Itens')\n",
    "plt.show()\n",
    "fig.savefig('items_pop.eps',bbox_inches='tight')"
   ]
  },
  {
   "cell_type": "code",
   "execution_count": 58,
   "metadata": {},
   "outputs": [
    {
     "data": {
      "text/plain": [
       "1      163423\n",
       "2       24948\n",
       "3        8709\n",
       "4        4053\n",
       "5        2192\n",
       "        ...  \n",
       "55          1\n",
       "43          1\n",
       "53          1\n",
       "45          1\n",
       "376         1\n",
       "Name: session_id, Length: 68, dtype: int64"
      ]
     },
     "execution_count": 58,
     "metadata": {},
     "output_type": "execute_result"
    }
   ],
   "source": []
  },
  {
   "cell_type": "code",
   "execution_count": 68,
   "metadata": {},
   "outputs": [],
   "source": [
    "# x = train_df[train_df.is_click>0].groupby('product_id')['user_id'].nunique().sort_values(ascending=False)\n",
    "items_popularity = np.zeros(len(user_int_ids))\n",
    "# items_popularity = np.zeros(len(dataset['items_attributes']))\n",
    "for user_id, product_id in train_df[train_df.is_click>0].groupby(['user_id','product_id']).count().reset_index()[['user_id','product_id']].iterrows():\n",
    "#     print(user_id,product_id)\n",
    "#     break\n",
    "#     print(\n",
    "    items_popularity[product_id['user_id']] +=1\n",
    "#     print(items_popularity[product_id])"
   ]
  },
  {
   "cell_type": "code",
   "execution_count": null,
   "metadata": {},
   "outputs": [],
   "source": []
  },
  {
   "cell_type": "code",
   "execution_count": 73,
   "metadata": {},
   "outputs": [
    {
     "data": {
      "image/png": "[encoded data removed]",
      "text/plain": [
       "<Figure size 1300x350 with 2 Axes>"
      ]
     },
     "metadata": {
      "needs_background": "light"
     },
     "output_type": "display_data"
    }
   ],
   "source": [
    "fig, axs = plt.subplots(ncols=2,figsize=(13,3.5))\n",
    "ax = axs[0]\n",
    "ax.plot(np.sort(items_popularity)[::-1])\n",
    "ax.set_yscale('log')\n",
    "ax.set_xscale('log')\n",
    "ax.set_ylabel('#Itens (log)')\n",
    "ax.set_xlabel('Usuários (log)')\n",
    "ax = axs[1]\n",
    "ax.plot(np.sort(items_popularity)[::-1])\n",
    "# ax.plot(train_df[train_df.is_click>0].groupby('product_id')['user_id'].nunique().sort_values(ascending=False).to_numpy())\n",
    "ax.set_ylabel('#Itens')\n",
    "ax.set_xlabel('Usuários')\n",
    "plt.show()\n",
    "fig.savefig('users_clicks.eps',bbox_inches='tight')"
   ]
  },
  {
   "cell_type": "code",
   "execution_count": 94,
   "metadata": {},
   "outputs": [
    {
     "name": "stdout",
     "output_type": "stream",
     "text": [
      "\\begin{tabular}{lr}\n",
      "\\toprule\n",
      "{} &   is\\_click \\\\\n",
      "\\midrule\n",
      "1  &  96.888511 \\\\\n",
      "2  &   2.728706 \\\\\n",
      "3  &   0.293456 \\\\\n",
      "4  &   0.058175 \\\\\n",
      "5  &   0.018416 \\\\\n",
      "6  &   0.006712 \\\\\n",
      "7  &   0.002754 \\\\\n",
      "8  &   0.001377 \\\\\n",
      "9  &   0.000516 \\\\\n",
      "10 &   0.001205 \\\\\n",
      "11 &   0.000172 \\\\\n",
      "\\bottomrule\n",
      "\\end{tabular}\n",
      "\n"
     ]
    }
   ],
   "source": [
    "x=train_df[train_df.is_click==1].groupby(['user_id','product_id'])['is_click'].sum().value_counts().sort_index()\n",
    "print((100*x/x.sum()).to_latex())"
   ]
  },
  {
   "cell_type": "code",
   "execution_count": 85,
   "metadata": {},
   "outputs": [
    {
     "data": {
      "text/plain": [
       "0.09291726329759369"
      ]
     },
     "execution_count": 85,
     "metadata": {},
     "output_type": "execute_result"
    }
   ],
   "source": [
    "len(set(test_df.user_id) - set(train_df.user_id))/len(set(test_df.user_id))"
   ]
  },
  {
   "cell_type": "code",
   "execution_count": 86,
   "metadata": {},
   "outputs": [
    {
     "data": {
      "text/plain": [
       "0.07115890630362659"
      ]
     },
     "execution_count": 86,
     "metadata": {},
     "output_type": "execute_result"
    }
   ],
   "source": [
    "len(set(test_df.product_id) - set(train_df.product_id))/len(set(test_df.product_id))"
   ]
  },
  {
   "cell_type": "code",
   "execution_count": 78,
   "metadata": {},
   "outputs": [
    {
     "data": {
      "text/plain": [
       "<AxesSubplot:>"
      ]
     },
     "execution_count": 78,
     "metadata": {},
     "output_type": "execute_result"
    },
    {
     "data": {
      "image/png": "[encoded data removed]",
      "text/plain": [
       "<Figure size 1300x350 with 1 Axes>"
      ]
     },
     "metadata": {
      "needs_background": "light"
     },
     "output_type": "display_data"
    }
   ],
   "source": [
    "# fig, axs = plt.subplots(figsize=(13,3.5))\n",
    "sessions = train_df.groupby('user_id')['session_id'].nunique().value_counts().sort_index()\n",
    "\n",
    "fig, axs = plt.subplots(ncols=2,figsize=(13,3.5))\n",
    "ax = axs[0]\n",
    "ax.plot(np.sort(items_popularity)[::-1])\n",
    "ax.set_yscale('log')\n",
    "ax.set_xscale('log')\n",
    "ax.set_ylabel('#Sessões (log)')\n",
    "ax.set_xlabel('Usuários (log)')\n",
    "ax = axs[1]\n",
    "ax.plot(np.sort(items_popularity)[::-1])\n",
    "# ax.plot(train_df[train_df.is_click>0].groupby('product_id')['user_id'].nunique().sort_values(ascending=False).to_numpy())\n",
    "ax.set_ylabel('#Sessões')\n",
    "ax.set_xlabel('Usuários')\n",
    "plt.show()\n",
    "fig.savefig('users_clicks.eps',bbox_inches='tight')"
   ]
  },
  {
   "cell_type": "code",
   "execution_count": null,
   "metadata": {},
   "outputs": [],
   "source": []
  },
  {
   "cell_type": "code",
   "execution_count": 30,
   "metadata": {},
   "outputs": [
    {
     "data": {
      "text/plain": [
       "219035"
      ]
     },
     "execution_count": 30,
     "metadata": {},
     "output_type": "execute_result"
    }
   ],
   "source": [
    "full_df.user_id.nunique()"
   ]
  },
  {
   "cell_type": "code",
   "execution_count": 31,
   "metadata": {},
   "outputs": [
    {
     "data": {
      "text/plain": [
       "443150"
      ]
     },
     "execution_count": 31,
     "metadata": {},
     "output_type": "execute_result"
    }
   ],
   "source": [
    "attributes_df.product_id.nunique()"
   ]
  },
  {
   "cell_type": "code",
   "execution_count": 37,
   "metadata": {},
   "outputs": [
    {
     "data": {
      "text/html": [
       "<div>\n",
       "<style scoped>\n",
       "    .dataframe tbody tr th:only-of-type {\n",
       "        vertical-align: middle;\n",
       "    }\n",
       "\n",
       "    .dataframe tbody tr th {\n",
       "        vertical-align: top;\n",
       "    }\n",
       "\n",
       "    .dataframe thead th {\n",
       "        text-align: right;\n",
       "    }\n",
       "</style>\n",
       "<table border=\"1\" class=\"dataframe\">\n",
       "  <thead>\n",
       "    <tr style=\"text-align: right;\">\n",
       "      <th></th>\n",
       "      <th>user_id</th>\n",
       "      <th>product_id</th>\n",
       "      <th>query_id</th>\n",
       "      <th>session_id</th>\n",
       "      <th>page_type</th>\n",
       "      <th>previous_page_type</th>\n",
       "      <th>device_category</th>\n",
       "      <th>device_platform</th>\n",
       "      <th>user_tier</th>\n",
       "      <th>user_country</th>\n",
       "      <th>context_type</th>\n",
       "      <th>context_value</th>\n",
       "      <th>product_price</th>\n",
       "      <th>week</th>\n",
       "      <th>week_day</th>\n",
       "    </tr>\n",
       "  </thead>\n",
       "  <tbody>\n",
       "    <tr>\n",
       "      <th>0</th>\n",
       "      <td>00001039003fd7fbc902f30fb6d78eaa5176f7291cba9a...</td>\n",
       "      <td>0b0d67508922c1b432da6a1fe2b8b8c72683377261fad3...</td>\n",
       "      <td>1</td>\n",
       "      <td>1</td>\n",
       "      <td>1</td>\n",
       "      <td>1</td>\n",
       "      <td>1</td>\n",
       "      <td>1</td>\n",
       "      <td>1</td>\n",
       "      <td>1</td>\n",
       "      <td>1</td>\n",
       "      <td>1</td>\n",
       "      <td>1</td>\n",
       "      <td>1</td>\n",
       "      <td>1</td>\n",
       "    </tr>\n",
       "    <tr>\n",
       "      <th>1</th>\n",
       "      <td>00001039003fd7fbc902f30fb6d78eaa5176f7291cba9a...</td>\n",
       "      <td>44a7b3bb43e83abf52cea0b135fc4c3de18c886a824153...</td>\n",
       "      <td>1</td>\n",
       "      <td>1</td>\n",
       "      <td>1</td>\n",
       "      <td>1</td>\n",
       "      <td>1</td>\n",
       "      <td>1</td>\n",
       "      <td>1</td>\n",
       "      <td>1</td>\n",
       "      <td>1</td>\n",
       "      <td>1</td>\n",
       "      <td>1</td>\n",
       "      <td>1</td>\n",
       "      <td>1</td>\n",
       "    </tr>\n",
       "    <tr>\n",
       "      <th>2</th>\n",
       "      <td>00001039003fd7fbc902f30fb6d78eaa5176f7291cba9a...</td>\n",
       "      <td>64b7cefa7dbb755dff8e8fcc4c6ff27ea523e8283a68a7...</td>\n",
       "      <td>1</td>\n",
       "      <td>1</td>\n",
       "      <td>1</td>\n",
       "      <td>1</td>\n",
       "      <td>1</td>\n",
       "      <td>1</td>\n",
       "      <td>1</td>\n",
       "      <td>1</td>\n",
       "      <td>1</td>\n",
       "      <td>1</td>\n",
       "      <td>1</td>\n",
       "      <td>1</td>\n",
       "      <td>1</td>\n",
       "    </tr>\n",
       "    <tr>\n",
       "      <th>3</th>\n",
       "      <td>00001039003fd7fbc902f30fb6d78eaa5176f7291cba9a...</td>\n",
       "      <td>7597faf176da2c707e851268dc2105308c7ba90de29bc5...</td>\n",
       "      <td>1</td>\n",
       "      <td>1</td>\n",
       "      <td>1</td>\n",
       "      <td>1</td>\n",
       "      <td>1</td>\n",
       "      <td>1</td>\n",
       "      <td>1</td>\n",
       "      <td>1</td>\n",
       "      <td>1</td>\n",
       "      <td>1</td>\n",
       "      <td>1</td>\n",
       "      <td>1</td>\n",
       "      <td>1</td>\n",
       "    </tr>\n",
       "    <tr>\n",
       "      <th>4</th>\n",
       "      <td>00001039003fd7fbc902f30fb6d78eaa5176f7291cba9a...</td>\n",
       "      <td>8727783c30c14163b1dd234b83448b48b279acc6a2737e...</td>\n",
       "      <td>1</td>\n",
       "      <td>1</td>\n",
       "      <td>1</td>\n",
       "      <td>1</td>\n",
       "      <td>1</td>\n",
       "      <td>1</td>\n",
       "      <td>1</td>\n",
       "      <td>1</td>\n",
       "      <td>1</td>\n",
       "      <td>1</td>\n",
       "      <td>1</td>\n",
       "      <td>1</td>\n",
       "      <td>1</td>\n",
       "    </tr>\n",
       "    <tr>\n",
       "      <th>...</th>\n",
       "      <td>...</td>\n",
       "      <td>...</td>\n",
       "      <td>...</td>\n",
       "      <td>...</td>\n",
       "      <td>...</td>\n",
       "      <td>...</td>\n",
       "      <td>...</td>\n",
       "      <td>...</td>\n",
       "      <td>...</td>\n",
       "      <td>...</td>\n",
       "      <td>...</td>\n",
       "      <td>...</td>\n",
       "      <td>...</td>\n",
       "      <td>...</td>\n",
       "      <td>...</td>\n",
       "    </tr>\n",
       "    <tr>\n",
       "      <th>3155549</th>\n",
       "      <td>ffffe92e2e357aede270f1bd0b34ca705be6520c923d26...</td>\n",
       "      <td>44c56145e80356e3b8f0f8e0c30c7d26cfbcba4cf2f3dc...</td>\n",
       "      <td>1</td>\n",
       "      <td>1</td>\n",
       "      <td>1</td>\n",
       "      <td>1</td>\n",
       "      <td>1</td>\n",
       "      <td>1</td>\n",
       "      <td>1</td>\n",
       "      <td>1</td>\n",
       "      <td>1</td>\n",
       "      <td>1</td>\n",
       "      <td>1</td>\n",
       "      <td>1</td>\n",
       "      <td>1</td>\n",
       "    </tr>\n",
       "    <tr>\n",
       "      <th>3155550</th>\n",
       "      <td>ffffe92e2e357aede270f1bd0b34ca705be6520c923d26...</td>\n",
       "      <td>7f3b0fbbf2fb0ef7fd2692f66521ac40311c3fd93a2c3d...</td>\n",
       "      <td>1</td>\n",
       "      <td>1</td>\n",
       "      <td>1</td>\n",
       "      <td>1</td>\n",
       "      <td>1</td>\n",
       "      <td>1</td>\n",
       "      <td>1</td>\n",
       "      <td>1</td>\n",
       "      <td>1</td>\n",
       "      <td>1</td>\n",
       "      <td>1</td>\n",
       "      <td>1</td>\n",
       "      <td>1</td>\n",
       "    </tr>\n",
       "    <tr>\n",
       "      <th>3155551</th>\n",
       "      <td>ffffe92e2e357aede270f1bd0b34ca705be6520c923d26...</td>\n",
       "      <td>8492de852bf4edf6e4ddc4f64016b0ec610348a1f5901a...</td>\n",
       "      <td>1</td>\n",
       "      <td>1</td>\n",
       "      <td>1</td>\n",
       "      <td>1</td>\n",
       "      <td>1</td>\n",
       "      <td>1</td>\n",
       "      <td>1</td>\n",
       "      <td>1</td>\n",
       "      <td>1</td>\n",
       "      <td>1</td>\n",
       "      <td>1</td>\n",
       "      <td>1</td>\n",
       "      <td>1</td>\n",
       "    </tr>\n",
       "    <tr>\n",
       "      <th>3155552</th>\n",
       "      <td>ffffe92e2e357aede270f1bd0b34ca705be6520c923d26...</td>\n",
       "      <td>98839d990171d0a0becd3019d8aa94080676794fa6a226...</td>\n",
       "      <td>1</td>\n",
       "      <td>1</td>\n",
       "      <td>1</td>\n",
       "      <td>1</td>\n",
       "      <td>1</td>\n",
       "      <td>1</td>\n",
       "      <td>1</td>\n",
       "      <td>1</td>\n",
       "      <td>1</td>\n",
       "      <td>1</td>\n",
       "      <td>1</td>\n",
       "      <td>1</td>\n",
       "      <td>1</td>\n",
       "    </tr>\n",
       "    <tr>\n",
       "      <th>3155553</th>\n",
       "      <td>ffffe92e2e357aede270f1bd0b34ca705be6520c923d26...</td>\n",
       "      <td>e6169d04e7cf0c07aef25e2a417a02979c29f2be0e3bf0...</td>\n",
       "      <td>1</td>\n",
       "      <td>1</td>\n",
       "      <td>1</td>\n",
       "      <td>1</td>\n",
       "      <td>1</td>\n",
       "      <td>1</td>\n",
       "      <td>1</td>\n",
       "      <td>1</td>\n",
       "      <td>1</td>\n",
       "      <td>1</td>\n",
       "      <td>1</td>\n",
       "      <td>1</td>\n",
       "      <td>1</td>\n",
       "    </tr>\n",
       "  </tbody>\n",
       "</table>\n",
       "<p>3155554 rows × 15 columns</p>\n",
       "</div>"
      ],
      "text/plain": [
       "                                                   user_id  \\\n",
       "0        00001039003fd7fbc902f30fb6d78eaa5176f7291cba9a...   \n",
       "1        00001039003fd7fbc902f30fb6d78eaa5176f7291cba9a...   \n",
       "2        00001039003fd7fbc902f30fb6d78eaa5176f7291cba9a...   \n",
       "3        00001039003fd7fbc902f30fb6d78eaa5176f7291cba9a...   \n",
       "4        00001039003fd7fbc902f30fb6d78eaa5176f7291cba9a...   \n",
       "...                                                    ...   \n",
       "3155549  ffffe92e2e357aede270f1bd0b34ca705be6520c923d26...   \n",
       "3155550  ffffe92e2e357aede270f1bd0b34ca705be6520c923d26...   \n",
       "3155551  ffffe92e2e357aede270f1bd0b34ca705be6520c923d26...   \n",
       "3155552  ffffe92e2e357aede270f1bd0b34ca705be6520c923d26...   \n",
       "3155553  ffffe92e2e357aede270f1bd0b34ca705be6520c923d26...   \n",
       "\n",
       "                                                product_id  query_id  \\\n",
       "0        0b0d67508922c1b432da6a1fe2b8b8c72683377261fad3...         1   \n",
       "1        44a7b3bb43e83abf52cea0b135fc4c3de18c886a824153...         1   \n",
       "2        64b7cefa7dbb755dff8e8fcc4c6ff27ea523e8283a68a7...         1   \n",
       "3        7597faf176da2c707e851268dc2105308c7ba90de29bc5...         1   \n",
       "4        8727783c30c14163b1dd234b83448b48b279acc6a2737e...         1   \n",
       "...                                                    ...       ...   \n",
       "3155549  44c56145e80356e3b8f0f8e0c30c7d26cfbcba4cf2f3dc...         1   \n",
       "3155550  7f3b0fbbf2fb0ef7fd2692f66521ac40311c3fd93a2c3d...         1   \n",
       "3155551  8492de852bf4edf6e4ddc4f64016b0ec610348a1f5901a...         1   \n",
       "3155552  98839d990171d0a0becd3019d8aa94080676794fa6a226...         1   \n",
       "3155553  e6169d04e7cf0c07aef25e2a417a02979c29f2be0e3bf0...         1   \n",
       "\n",
       "         session_id  page_type  previous_page_type  device_category  \\\n",
       "0                 1          1                   1                1   \n",
       "1                 1          1                   1                1   \n",
       "2                 1          1                   1                1   \n",
       "3                 1          1                   1                1   \n",
       "4                 1          1                   1                1   \n",
       "...             ...        ...                 ...              ...   \n",
       "3155549           1          1                   1                1   \n",
       "3155550           1          1                   1                1   \n",
       "3155551           1          1                   1                1   \n",
       "3155552           1          1                   1                1   \n",
       "3155553           1          1                   1                1   \n",
       "\n",
       "         device_platform  user_tier  user_country  context_type  \\\n",
       "0                      1          1             1             1   \n",
       "1                      1          1             1             1   \n",
       "2                      1          1             1             1   \n",
       "3                      1          1             1             1   \n",
       "4                      1          1             1             1   \n",
       "...                  ...        ...           ...           ...   \n",
       "3155549                1          1             1             1   \n",
       "3155550                1          1             1             1   \n",
       "3155551                1          1             1             1   \n",
       "3155552                1          1             1             1   \n",
       "3155553                1          1             1             1   \n",
       "\n",
       "         context_value  product_price  week  week_day  \n",
       "0                    1              1     1         1  \n",
       "1                    1              1     1         1  \n",
       "2                    1              1     1         1  \n",
       "3                    1              1     1         1  \n",
       "4                    1              1     1         1  \n",
       "...                ...            ...   ...       ...  \n",
       "3155549              1              1     1         1  \n",
       "3155550              1              1     1         1  \n",
       "3155551              1              1     1         1  \n",
       "3155552              1              1     1         1  \n",
       "3155553              1              1     1         1  \n",
       "\n",
       "[3155554 rows x 15 columns]"
      ]
     },
     "execution_count": 37,
     "metadata": {},
     "output_type": "execute_result"
    }
   ],
   "source": [
    "full_df.groupby(['user_id','product_id']).count().reset_index()"
   ]
  },
  {
   "cell_type": "code",
   "execution_count": 40,
   "metadata": {},
   "outputs": [
    {
     "data": {
      "text/plain": [
       "99.99674904209712"
      ]
     },
     "execution_count": 40,
     "metadata": {},
     "output_type": "execute_result"
    }
   ],
   "source": [
    "(1-3155554/(443150*219035))*100"
   ]
  },
  {
   "cell_type": "code",
   "execution_count": 12,
   "metadata": {},
   "outputs": [],
   "source": [
    "# x=set(full_df.columns) - set(['product_price','query_id','user_id','item_id','product_id','session_id'])"
   ]
  },
  {
   "cell_type": "code",
   "execution_count": 31,
   "metadata": {},
   "outputs": [],
   "source": [
    "train_df.context_type.loc[train_df['context_type'].isna()] = 'NULL'"
   ]
  },
  {
   "cell_type": "code",
   "execution_count": 34,
   "metadata": {},
   "outputs": [
    {
     "name": "stdout",
     "output_type": "stream",
     "text": [
      "query_id\t584665\n",
      "user_id\t208393\n",
      "session_id\t317426\n",
      "product_id\t408263\n",
      "page_type\t5\n",
      "previous_page_type\t23\n",
      "device_category\t3\n",
      "device_platform\t2\n",
      "user_tier\t6\n",
      "user_country\t196\n",
      "context_type\t4\n",
      "context_value\t187906\n",
      "product_price\t1757598\n",
      "week\t8\n",
      "week_day\t7\n",
      "is_click\t2\n"
     ]
    }
   ],
   "source": [
    "for i in train_df.columns:\n",
    "#     if i:\n",
    "#         print(i)\n",
    "    print(f'{i}\\t',end='')\n",
    "    y= [ii for jj in train_df[i].map(lambda x: [x] if isinstance(x,(int,float)) else x.split(',')).to_list() for ii in jj]\n",
    "    y=set(y)\n",
    "    print(len(y))\n",
    "#     print(f'{len(full_df[i].str.get_dummies(\",\").columns)}')"
   ]
  },
  {
   "cell_type": "code",
   "execution_count": 35,
   "metadata": {},
   "outputs": [
    {
     "name": "stdout",
     "output_type": "stream",
     "text": [
      "product_id\t443150\n",
      "gender\t4\n",
      "main_colour\t17\n",
      "second_colour\t22\n",
      "season\t7\n",
      "collection\t9\n",
      "category_id_l1\t43\n",
      "category_id_l2\t394\n",
      "category_id_l3\t583\n",
      "brand_id\t3399\n",
      "season_year\t20\n",
      "start_online_date\t2150\n",
      "material_values\t859\n",
      "attribute_values\t129\n"
     ]
    }
   ],
   "source": [
    "for i in attributes_df.columns:\n",
    "#     if i:\n",
    "#         print(i)\n",
    "    print(f'{i}\\t',end='')\n",
    "    y= [ii for jj in attributes_df[i].map(lambda x: [x] if isinstance(x,(int,float)) else x.split(',')).to_list() for ii in jj]\n",
    "    y=set(y)\n",
    "    print(len(y))\n",
    "#     print(f'{len(full_df[i].str.get_dummies(\",\").columns)}')"
   ]
  },
  {
   "cell_type": "code",
   "execution_count": 10,
   "metadata": {},
   "outputs": [
    {
     "data": {
      "text/plain": [
       "'c739fd56b5999e40d7391008230454adb1e371d30c6973f277063215fea3766c'"
      ]
     },
     "execution_count": 10,
     "metadata": {},
     "output_type": "execute_result"
    }
   ],
   "source": [
    "train_df.head()['context_value'].iloc[3]"
   ]
  },
  {
   "cell_type": "code",
   "execution_count": 13,
   "metadata": {},
   "outputs": [
    {
     "data": {
      "text/plain": [
       "product_id           0\n",
       "gender               0\n",
       "main_colour          0\n",
       "second_colour        0\n",
       "season               0\n",
       "collection           0\n",
       "category_id_l1       0\n",
       "category_id_l2       0\n",
       "category_id_l3       0\n",
       "brand_id             0\n",
       "season_year          0\n",
       "start_online_date    0\n",
       "material_values      0\n",
       "attribute_values     0\n",
       "dtype: int64"
      ]
     },
     "execution_count": 13,
     "metadata": {},
     "output_type": "execute_result"
    }
   ],
   "source": [
    "attributes_df.isna().sum()"
   ]
  },
  {
   "cell_type": "code",
   "execution_count": 16,
   "metadata": {},
   "outputs": [
    {
     "data": {
      "text/plain": [
       "query_id              0.000000\n",
       "user_id               0.000000\n",
       "session_id            0.000000\n",
       "product_id            0.000000\n",
       "page_type             0.000000\n",
       "previous_page_type    0.000000\n",
       "device_category       0.000000\n",
       "device_platform       0.000000\n",
       "user_tier             0.000000\n",
       "user_country          0.000000\n",
       "context_type          0.043476\n",
       "context_value         0.000000\n",
       "product_price         0.000000\n",
       "week                  0.000000\n",
       "week_day              0.000000\n",
       "is_click              0.000000\n",
       "dtype: float64"
      ]
     },
     "execution_count": 16,
     "metadata": {},
     "output_type": "execute_result"
    }
   ],
   "source": [
    "train_df.isna().sum()/len(train_df)"
   ]
  },
  {
   "cell_type": "code",
   "execution_count": 5,
   "metadata": {},
   "outputs": [
    {
     "data": {
      "text/plain": [
       "product_id           443150\n",
       "gender                    4\n",
       "main_colour              17\n",
       "second_colour            22\n",
       "season                    7\n",
       "collection                9\n",
       "category_id_l1           43\n",
       "category_id_l2          394\n",
       "category_id_l3          583\n",
       "brand_id               3399\n",
       "season_year              20\n",
       "start_online_date      2150\n",
       "material_values       49480\n",
       "attribute_values       1469\n",
       "dtype: int64"
      ]
     },
     "execution_count": 5,
     "metadata": {},
     "output_type": "execute_result"
    }
   ],
   "source": [
    "attributes_df.nunique()"
   ]
  },
  {
   "cell_type": "code",
   "execution_count": 6,
   "metadata": {},
   "outputs": [],
   "source": [
    "def comma_split(df):\n",
    "    res = df.map(lambda x:x.split(','))\n",
    "    return res\n",
    "def flat_series(series):\n",
    "    res = list(series.values)\n",
    "    res = pd.Series(list(itertools.chain(*res)))\n",
    "    return res"
   ]
  },
  {
   "cell_type": "code",
   "execution_count": 7,
   "metadata": {},
   "outputs": [],
   "source": [
    "t1 = comma_split(attributes_df['attribute_values'])\n",
    "t2 = flat_series(t1)\n"
   ]
  },
  {
   "cell_type": "code",
   "execution_count": 8,
   "metadata": {},
   "outputs": [
    {
     "data": {
      "text/plain": [
       "129"
      ]
     },
     "execution_count": 8,
     "metadata": {},
     "output_type": "execute_result"
    }
   ],
   "source": [
    "t2.nunique()"
   ]
  },
  {
   "cell_type": "code",
   "execution_count": 9,
   "metadata": {},
   "outputs": [],
   "source": [
    "t1 = comma_split(attributes_df['material_values'])\n",
    "t2 = flat_series(t1)\n"
   ]
  },
  {
   "cell_type": "code",
   "execution_count": 10,
   "metadata": {},
   "outputs": [
    {
     "data": {
      "text/plain": [
       "859"
      ]
     },
     "execution_count": 10,
     "metadata": {},
     "output_type": "execute_result"
    }
   ],
   "source": [
    "t2.nunique()"
   ]
  },
  {
   "cell_type": "code",
   "execution_count": 11,
   "metadata": {},
   "outputs": [
    {
     "data": {
      "text/plain": [
       "Index(['product_id', 'gender', 'main_colour', 'second_colour', 'season',\n",
       "       'collection', 'category_id_l1', 'category_id_l2', 'category_id_l3',\n",
       "       'brand_id', 'season_year', 'start_online_date', 'material_values',\n",
       "       'attribute_values'],\n",
       "      dtype='object')"
      ]
     },
     "execution_count": 11,
     "metadata": {},
     "output_type": "execute_result"
    }
   ],
   "source": [
    "attributes_df.columns"
   ]
  },
  {
   "cell_type": "code",
   "execution_count": 12,
   "metadata": {},
   "outputs": [
    {
     "data": {
      "text/html": [
       "<div>\n",
       "<style scoped>\n",
       "    .dataframe tbody tr th:only-of-type {\n",
       "        vertical-align: middle;\n",
       "    }\n",
       "\n",
       "    .dataframe tbody tr th {\n",
       "        vertical-align: top;\n",
       "    }\n",
       "\n",
       "    .dataframe thead th {\n",
       "        text-align: right;\n",
       "    }\n",
       "</style>\n",
       "<table border=\"1\" class=\"dataframe\">\n",
       "  <thead>\n",
       "    <tr style=\"text-align: right;\">\n",
       "      <th></th>\n",
       "      <th>product_id</th>\n",
       "      <th>start_online_date</th>\n",
       "      <th>0047d43bec0f045606c528b53d2fbfa71ee50ce992d9ec65a7fa7c48a4201682</th>\n",
       "      <th>0062ec2fe57440ca66ccd557c1316262f4664753e0afb1541a1b63dad6c058c7</th>\n",
       "      <th>00c7872f916c8a3bd487ef61c9750c86f1fb9b00eaa60057a950a0e3b94800e3</th>\n",
       "      <th>00d385cbedfaef819c8ade4727b905d0448be170b0b716c01de95ef7aaae6d7b</th>\n",
       "      <th>00f5bba802966e59f9236357ee303fbaa929729e03891b343ccf6af17493fae9</th>\n",
       "      <th>01a322d7c0e5e94b28ed07c61be3392a32a270b0321a108ad2356e8de39a944f</th>\n",
       "      <th>02019e45e45692e94bba2acae484f1b0457d34c2274291c57f47b4870385623a</th>\n",
       "      <th>02ca686bb791441f7d314711b7aec3426bc4d86c0ec9c09649df0cb397cd4081</th>\n",
       "      <th>...</th>\n",
       "      <th>84f159b4fc13c65fe457522e8274c99ad41b0a0b4dac960a02d955cc407d3048</th>\n",
       "      <th>8eb8effcf521a262349220ff9e4f225fd08f8296517447114e9ecdf330aa2cc1</th>\n",
       "      <th>9aafdb0570382a9b2ed3b1ac9bf45d433074bc8330a6d9cf8de64d2b2cbfe30d</th>\n",
       "      <th>c7c4ac6af030e54d02b9e4545e4223e76515c3ce4e498eb16dbe9be7a6292a9e</th>\n",
       "      <th>da0ff57eff378aa194c6ee3ccaf426d85d4cb189471c6dfd6752149ad137cb7f</th>\n",
       "      <th>dc1194ba428d5cd4c49f8a769a6577ac1042162da38bc16f56c9c23ac198d5d5</th>\n",
       "      <th>e2fab5efe53ffede664e134836a9348c387358f1fcfebc0621708078e3eb9e36</th>\n",
       "      <th>eb9b486f01241b752dfc53cf487bf05abcbbb08f345a7eab4e6637c1824150cd</th>\n",
       "      <th>ed3084b866a18cd05e10ad23b85f78597ee574ebbe373b740e21295870af91bc</th>\n",
       "      <th>ef7d8d2e02aec8c328dafde95486f7181c37d07be3d167dc22af62e47b8dc610</th>\n",
       "    </tr>\n",
       "  </thead>\n",
       "  <tbody>\n",
       "    <tr>\n",
       "      <th>0</th>\n",
       "      <td>0013f07ccdf212210c110e63f0de46e37669c17a4d855a...</td>\n",
       "      <td>1067.041667</td>\n",
       "      <td>0</td>\n",
       "      <td>0</td>\n",
       "      <td>0</td>\n",
       "      <td>0</td>\n",
       "      <td>0</td>\n",
       "      <td>0</td>\n",
       "      <td>0</td>\n",
       "      <td>0</td>\n",
       "      <td>...</td>\n",
       "      <td>0</td>\n",
       "      <td>0</td>\n",
       "      <td>0</td>\n",
       "      <td>1</td>\n",
       "      <td>0</td>\n",
       "      <td>0</td>\n",
       "      <td>0</td>\n",
       "      <td>0</td>\n",
       "      <td>0</td>\n",
       "      <td>0</td>\n",
       "    </tr>\n",
       "    <tr>\n",
       "      <th>1</th>\n",
       "      <td>002239cd57f19f22e557030dff363dfbd1344d8f7ac829...</td>\n",
       "      <td>215.041667</td>\n",
       "      <td>0</td>\n",
       "      <td>0</td>\n",
       "      <td>0</td>\n",
       "      <td>0</td>\n",
       "      <td>0</td>\n",
       "      <td>0</td>\n",
       "      <td>0</td>\n",
       "      <td>0</td>\n",
       "      <td>...</td>\n",
       "      <td>0</td>\n",
       "      <td>0</td>\n",
       "      <td>0</td>\n",
       "      <td>0</td>\n",
       "      <td>0</td>\n",
       "      <td>0</td>\n",
       "      <td>0</td>\n",
       "      <td>0</td>\n",
       "      <td>0</td>\n",
       "      <td>1</td>\n",
       "    </tr>\n",
       "    <tr>\n",
       "      <th>2</th>\n",
       "      <td>0028022e1ecbbf92f03a1edb9accb58e7c682e7cd89897...</td>\n",
       "      <td>519.000000</td>\n",
       "      <td>0</td>\n",
       "      <td>0</td>\n",
       "      <td>0</td>\n",
       "      <td>0</td>\n",
       "      <td>0</td>\n",
       "      <td>0</td>\n",
       "      <td>0</td>\n",
       "      <td>0</td>\n",
       "      <td>...</td>\n",
       "      <td>0</td>\n",
       "      <td>0</td>\n",
       "      <td>0</td>\n",
       "      <td>0</td>\n",
       "      <td>0</td>\n",
       "      <td>1</td>\n",
       "      <td>0</td>\n",
       "      <td>0</td>\n",
       "      <td>0</td>\n",
       "      <td>0</td>\n",
       "    </tr>\n",
       "    <tr>\n",
       "      <th>3</th>\n",
       "      <td>00433de93d9cb6b08584423a6b54306abacef89fbddffe...</td>\n",
       "      <td>202.041667</td>\n",
       "      <td>0</td>\n",
       "      <td>0</td>\n",
       "      <td>0</td>\n",
       "      <td>0</td>\n",
       "      <td>0</td>\n",
       "      <td>0</td>\n",
       "      <td>0</td>\n",
       "      <td>0</td>\n",
       "      <td>...</td>\n",
       "      <td>0</td>\n",
       "      <td>0</td>\n",
       "      <td>0</td>\n",
       "      <td>0</td>\n",
       "      <td>0</td>\n",
       "      <td>0</td>\n",
       "      <td>0</td>\n",
       "      <td>0</td>\n",
       "      <td>0</td>\n",
       "      <td>1</td>\n",
       "    </tr>\n",
       "    <tr>\n",
       "      <th>4</th>\n",
       "      <td>009623ea17e53324f8f5a3f45f5b21b9a885ea2765de82...</td>\n",
       "      <td>211.041667</td>\n",
       "      <td>0</td>\n",
       "      <td>0</td>\n",
       "      <td>0</td>\n",
       "      <td>0</td>\n",
       "      <td>0</td>\n",
       "      <td>0</td>\n",
       "      <td>0</td>\n",
       "      <td>0</td>\n",
       "      <td>...</td>\n",
       "      <td>0</td>\n",
       "      <td>0</td>\n",
       "      <td>0</td>\n",
       "      <td>0</td>\n",
       "      <td>0</td>\n",
       "      <td>0</td>\n",
       "      <td>0</td>\n",
       "      <td>0</td>\n",
       "      <td>0</td>\n",
       "      <td>1</td>\n",
       "    </tr>\n",
       "  </tbody>\n",
       "</table>\n",
       "<p>5 rows × 5488 columns</p>\n",
       "</div>"
      ],
      "text/plain": [
       "                                          product_id  start_online_date  \\\n",
       "0  0013f07ccdf212210c110e63f0de46e37669c17a4d855a...        1067.041667   \n",
       "1  002239cd57f19f22e557030dff363dfbd1344d8f7ac829...         215.041667   \n",
       "2  0028022e1ecbbf92f03a1edb9accb58e7c682e7cd89897...         519.000000   \n",
       "3  00433de93d9cb6b08584423a6b54306abacef89fbddffe...         202.041667   \n",
       "4  009623ea17e53324f8f5a3f45f5b21b9a885ea2765de82...         211.041667   \n",
       "\n",
       "   0047d43bec0f045606c528b53d2fbfa71ee50ce992d9ec65a7fa7c48a4201682  \\\n",
       "0                                                  0                  \n",
       "1                                                  0                  \n",
       "2                                                  0                  \n",
       "3                                                  0                  \n",
       "4                                                  0                  \n",
       "\n",
       "   0062ec2fe57440ca66ccd557c1316262f4664753e0afb1541a1b63dad6c058c7  \\\n",
       "0                                                  0                  \n",
       "1                                                  0                  \n",
       "2                                                  0                  \n",
       "3                                                  0                  \n",
       "4                                                  0                  \n",
       "\n",
       "   00c7872f916c8a3bd487ef61c9750c86f1fb9b00eaa60057a950a0e3b94800e3  \\\n",
       "0                                                  0                  \n",
       "1                                                  0                  \n",
       "2                                                  0                  \n",
       "3                                                  0                  \n",
       "4                                                  0                  \n",
       "\n",
       "   00d385cbedfaef819c8ade4727b905d0448be170b0b716c01de95ef7aaae6d7b  \\\n",
       "0                                                  0                  \n",
       "1                                                  0                  \n",
       "2                                                  0                  \n",
       "3                                                  0                  \n",
       "4                                                  0                  \n",
       "\n",
       "   00f5bba802966e59f9236357ee303fbaa929729e03891b343ccf6af17493fae9  \\\n",
       "0                                                  0                  \n",
       "1                                                  0                  \n",
       "2                                                  0                  \n",
       "3                                                  0                  \n",
       "4                                                  0                  \n",
       "\n",
       "   01a322d7c0e5e94b28ed07c61be3392a32a270b0321a108ad2356e8de39a944f  \\\n",
       "0                                                  0                  \n",
       "1                                                  0                  \n",
       "2                                                  0                  \n",
       "3                                                  0                  \n",
       "4                                                  0                  \n",
       "\n",
       "   02019e45e45692e94bba2acae484f1b0457d34c2274291c57f47b4870385623a  \\\n",
       "0                                                  0                  \n",
       "1                                                  0                  \n",
       "2                                                  0                  \n",
       "3                                                  0                  \n",
       "4                                                  0                  \n",
       "\n",
       "   02ca686bb791441f7d314711b7aec3426bc4d86c0ec9c09649df0cb397cd4081  ...  \\\n",
       "0                                                  0                 ...   \n",
       "1                                                  0                 ...   \n",
       "2                                                  0                 ...   \n",
       "3                                                  0                 ...   \n",
       "4                                                  0                 ...   \n",
       "\n",
       "   84f159b4fc13c65fe457522e8274c99ad41b0a0b4dac960a02d955cc407d3048  \\\n",
       "0                                                  0                  \n",
       "1                                                  0                  \n",
       "2                                                  0                  \n",
       "3                                                  0                  \n",
       "4                                                  0                  \n",
       "\n",
       "   8eb8effcf521a262349220ff9e4f225fd08f8296517447114e9ecdf330aa2cc1  \\\n",
       "0                                                  0                  \n",
       "1                                                  0                  \n",
       "2                                                  0                  \n",
       "3                                                  0                  \n",
       "4                                                  0                  \n",
       "\n",
       "   9aafdb0570382a9b2ed3b1ac9bf45d433074bc8330a6d9cf8de64d2b2cbfe30d  \\\n",
       "0                                                  0                  \n",
       "1                                                  0                  \n",
       "2                                                  0                  \n",
       "3                                                  0                  \n",
       "4                                                  0                  \n",
       "\n",
       "   c7c4ac6af030e54d02b9e4545e4223e76515c3ce4e498eb16dbe9be7a6292a9e  \\\n",
       "0                                                  1                  \n",
       "1                                                  0                  \n",
       "2                                                  0                  \n",
       "3                                                  0                  \n",
       "4                                                  0                  \n",
       "\n",
       "   da0ff57eff378aa194c6ee3ccaf426d85d4cb189471c6dfd6752149ad137cb7f  \\\n",
       "0                                                  0                  \n",
       "1                                                  0                  \n",
       "2                                                  0                  \n",
       "3                                                  0                  \n",
       "4                                                  0                  \n",
       "\n",
       "   dc1194ba428d5cd4c49f8a769a6577ac1042162da38bc16f56c9c23ac198d5d5  \\\n",
       "0                                                  0                  \n",
       "1                                                  0                  \n",
       "2                                                  1                  \n",
       "3                                                  0                  \n",
       "4                                                  0                  \n",
       "\n",
       "   e2fab5efe53ffede664e134836a9348c387358f1fcfebc0621708078e3eb9e36  \\\n",
       "0                                                  0                  \n",
       "1                                                  0                  \n",
       "2                                                  0                  \n",
       "3                                                  0                  \n",
       "4                                                  0                  \n",
       "\n",
       "   eb9b486f01241b752dfc53cf487bf05abcbbb08f345a7eab4e6637c1824150cd  \\\n",
       "0                                                  0                  \n",
       "1                                                  0                  \n",
       "2                                                  0                  \n",
       "3                                                  0                  \n",
       "4                                                  0                  \n",
       "\n",
       "   ed3084b866a18cd05e10ad23b85f78597ee574ebbe373b740e21295870af91bc  \\\n",
       "0                                                  0                  \n",
       "1                                                  0                  \n",
       "2                                                  0                  \n",
       "3                                                  0                  \n",
       "4                                                  0                  \n",
       "\n",
       "   ef7d8d2e02aec8c328dafde95486f7181c37d07be3d167dc22af62e47b8dc610  \n",
       "0                                                  0                 \n",
       "1                                                  1                 \n",
       "2                                                  0                 \n",
       "3                                                  1                 \n",
       "4                                                  1                 \n",
       "\n",
       "[5 rows x 5488 columns]"
      ]
     },
     "execution_count": 12,
     "metadata": {},
     "output_type": "execute_result"
    }
   ],
   "source": [
    "columns_to_dummies =['attribute_values', 'material_values','gender', 'main_colour', 'second_colour', 'season',\n",
    "       'collection', 'category_id_l1', 'category_id_l2', 'category_id_l3',\n",
    "       'brand_id', 'season_year']\n",
    "tdf = attributes_df.copy()\n",
    "for column in columns_to_dummies:\n",
    "    if column in ['material_values','attribute_values']:\n",
    "        tdf = pd.concat([tdf,attributes_df[column].str.get_dummies(',')],axis=1)\n",
    "    else:\n",
    "        tdf = pd.concat([tdf,pd.get_dummies(attributes_df[column])],axis=1)\n",
    "    del tdf[column]\n",
    "tdf.head()"
   ]
  },
  {
   "cell_type": "code",
   "execution_count": 13,
   "metadata": {},
   "outputs": [],
   "source": [
    "train_df = dataset.parquet_load(file_name='data_phase1/train.parquet')"
   ]
  },
  {
   "cell_type": "code",
   "execution_count": 16,
   "metadata": {},
   "outputs": [
    {
     "data": {
      "text/plain": [
       "Index(['query_id', 'user_id', 'session_id', 'product_id', 'page_type',\n",
       "       'previous_page_type', 'device_category', 'device_platform', 'user_tier',\n",
       "       'user_country', 'context_type', 'context_value', 'product_price',\n",
       "       'week', 'week_day', 'is_click'],\n",
       "      dtype='object')"
      ]
     },
     "execution_count": 16,
     "metadata": {},
     "output_type": "execute_result"
    }
   ],
   "source": [
    "train_df.columns"
   ]
  },
  {
   "cell_type": "code",
   "execution_count": 36,
   "metadata": {},
   "outputs": [
    {
     "data": {
      "text/plain": [
       "187906"
      ]
     },
     "execution_count": 36,
     "metadata": {},
     "output_type": "execute_result"
    }
   ],
   "source": [
    "t1 = comma_split(train_df['context_value'])\n",
    "t2 = flat_series(t1)\n",
    "t2.nunique()"
   ]
  },
  {
   "cell_type": "code",
   "execution_count": 32,
   "metadata": {
    "scrolled": false
   },
   "outputs": [
    {
     "name": "stdout",
     "output_type": "stream",
     "text": [
      "context_type\n",
      "context_value\n"
     ]
    },
    {
     "ename": "MemoryError",
     "evalue": "Unable to allocate 4.80 TiB for an array with shape (3507990, 187906) and data type int64",
     "output_type": "error",
     "traceback": [
      "\u001b[0;31m---------------------------------------------------------------------------\u001b[0m",
      "\u001b[0;31mMemoryError\u001b[0m                               Traceback (most recent call last)",
      "\u001b[0;32m<ipython-input-32-1615d5203890>\u001b[0m in \u001b[0;36m<module>\u001b[0;34m\u001b[0m\n\u001b[1;32m     10\u001b[0m         \u001b[0mint_mapping\u001b[0m \u001b[0;34m=\u001b[0m \u001b[0;34m{\u001b[0m\u001b[0muv\u001b[0m\u001b[0;34m:\u001b[0m \u001b[0mstr\u001b[0m\u001b[0;34m(\u001b[0m\u001b[0mi\u001b[0m\u001b[0;34m)\u001b[0m \u001b[0;32mfor\u001b[0m \u001b[0mi\u001b[0m\u001b[0;34m,\u001b[0m \u001b[0muv\u001b[0m \u001b[0;32min\u001b[0m \u001b[0menumerate\u001b[0m\u001b[0;34m(\u001b[0m\u001b[0munique_values\u001b[0m\u001b[0;34m)\u001b[0m\u001b[0;34m}\u001b[0m\u001b[0;34m\u001b[0m\u001b[0;34m\u001b[0m\u001b[0m\n\u001b[1;32m     11\u001b[0m         \u001b[0mcolumn_values\u001b[0m \u001b[0;34m=\u001b[0m \u001b[0mcolumn_values\u001b[0m\u001b[0;34m.\u001b[0m\u001b[0mmap\u001b[0m\u001b[0;34m(\u001b[0m\u001b[0;32mlambda\u001b[0m \u001b[0mx\u001b[0m\u001b[0;34m:\u001b[0m \u001b[0mx\u001b[0m \u001b[0;32mif\u001b[0m \u001b[0mx\u001b[0m \u001b[0;34m==\u001b[0m \u001b[0;32mNone\u001b[0m \u001b[0;32melse\u001b[0m \u001b[0mlist\u001b[0m\u001b[0;34m(\u001b[0m\u001b[0mmap\u001b[0m\u001b[0;34m(\u001b[0m\u001b[0;32mlambda\u001b[0m \u001b[0my\u001b[0m\u001b[0;34m:\u001b[0m \u001b[0mint_mapping\u001b[0m\u001b[0;34m[\u001b[0m\u001b[0my\u001b[0m\u001b[0;34m]\u001b[0m\u001b[0;34m,\u001b[0m\u001b[0mx\u001b[0m\u001b[0;34m)\u001b[0m\u001b[0;34m)\u001b[0m\u001b[0;34m)\u001b[0m\u001b[0;34m.\u001b[0m\u001b[0mmap\u001b[0m\u001b[0;34m(\u001b[0m\u001b[0;32mlambda\u001b[0m \u001b[0mx\u001b[0m\u001b[0;34m:\u001b[0m \u001b[0mx\u001b[0m \u001b[0;32mif\u001b[0m \u001b[0mx\u001b[0m\u001b[0;34m==\u001b[0m\u001b[0;32mNone\u001b[0m \u001b[0;32melse\u001b[0m \u001b[0;34m','\u001b[0m\u001b[0;34m.\u001b[0m\u001b[0mjoin\u001b[0m\u001b[0;34m(\u001b[0m\u001b[0mx\u001b[0m\u001b[0;34m)\u001b[0m\u001b[0;34m)\u001b[0m\u001b[0;34m\u001b[0m\u001b[0;34m\u001b[0m\u001b[0m\n\u001b[0;32m---> 12\u001b[0;31m         \u001b[0mntraindf\u001b[0m \u001b[0;34m=\u001b[0m \u001b[0mpd\u001b[0m\u001b[0;34m.\u001b[0m\u001b[0mconcat\u001b[0m\u001b[0;34m(\u001b[0m\u001b[0;34m[\u001b[0m\u001b[0mntraindf\u001b[0m\u001b[0;34m,\u001b[0m\u001b[0mcolumn_values\u001b[0m\u001b[0;34m.\u001b[0m\u001b[0mstr\u001b[0m\u001b[0;34m.\u001b[0m\u001b[0mget_dummies\u001b[0m\u001b[0;34m(\u001b[0m\u001b[0;34m','\u001b[0m\u001b[0;34m)\u001b[0m\u001b[0;34m]\u001b[0m\u001b[0;34m,\u001b[0m\u001b[0maxis\u001b[0m\u001b[0;34m=\u001b[0m\u001b[0;36m1\u001b[0m\u001b[0;34m)\u001b[0m\u001b[0;34m\u001b[0m\u001b[0;34m\u001b[0m\u001b[0m\n\u001b[0m\u001b[1;32m     13\u001b[0m     \u001b[0;32melse\u001b[0m\u001b[0;34m:\u001b[0m\u001b[0;34m\u001b[0m\u001b[0;34m\u001b[0m\u001b[0m\n\u001b[1;32m     14\u001b[0m         \u001b[0mntraindf\u001b[0m \u001b[0;34m=\u001b[0m \u001b[0mpd\u001b[0m\u001b[0;34m.\u001b[0m\u001b[0mconcat\u001b[0m\u001b[0;34m(\u001b[0m\u001b[0;34m[\u001b[0m\u001b[0mntraindf\u001b[0m\u001b[0;34m,\u001b[0m\u001b[0mpd\u001b[0m\u001b[0;34m.\u001b[0m\u001b[0mget_dummies\u001b[0m\u001b[0;34m(\u001b[0m\u001b[0mntraindf\u001b[0m\u001b[0;34m[\u001b[0m\u001b[0mcolumn\u001b[0m\u001b[0;34m]\u001b[0m\u001b[0;34m)\u001b[0m\u001b[0;34m]\u001b[0m\u001b[0;34m,\u001b[0m\u001b[0maxis\u001b[0m\u001b[0;34m=\u001b[0m\u001b[0;36m1\u001b[0m\u001b[0;34m)\u001b[0m\u001b[0;34m\u001b[0m\u001b[0;34m\u001b[0m\u001b[0m\n",
      "\u001b[0;32m~/.local/lib/python3.6/site-packages/pandas/core/strings.py\u001b[0m in \u001b[0;36mwrapper\u001b[0;34m(self, *args, **kwargs)\u001b[0m\n\u001b[1;32m   1999\u001b[0m                 )\n\u001b[1;32m   2000\u001b[0m                 \u001b[0;32mraise\u001b[0m \u001b[0mTypeError\u001b[0m\u001b[0;34m(\u001b[0m\u001b[0mmsg\u001b[0m\u001b[0;34m)\u001b[0m\u001b[0;34m\u001b[0m\u001b[0;34m\u001b[0m\u001b[0m\n\u001b[0;32m-> 2001\u001b[0;31m             \u001b[0;32mreturn\u001b[0m \u001b[0mfunc\u001b[0m\u001b[0;34m(\u001b[0m\u001b[0mself\u001b[0m\u001b[0;34m,\u001b[0m \u001b[0;34m*\u001b[0m\u001b[0margs\u001b[0m\u001b[0;34m,\u001b[0m \u001b[0;34m**\u001b[0m\u001b[0mkwargs\u001b[0m\u001b[0;34m)\u001b[0m\u001b[0;34m\u001b[0m\u001b[0;34m\u001b[0m\u001b[0m\n\u001b[0m\u001b[1;32m   2002\u001b[0m \u001b[0;34m\u001b[0m\u001b[0m\n\u001b[1;32m   2003\u001b[0m         \u001b[0mwrapper\u001b[0m\u001b[0;34m.\u001b[0m\u001b[0m__name__\u001b[0m \u001b[0;34m=\u001b[0m \u001b[0mfunc_name\u001b[0m\u001b[0;34m\u001b[0m\u001b[0;34m\u001b[0m\u001b[0m\n",
      "\u001b[0;32m~/.local/lib/python3.6/site-packages/pandas/core/strings.py\u001b[0m in \u001b[0;36mget_dummies\u001b[0;34m(self, sep)\u001b[0m\n\u001b[1;32m   3088\u001b[0m         \u001b[0;31m# methods available for making the dummies...\u001b[0m\u001b[0;34m\u001b[0m\u001b[0;34m\u001b[0m\u001b[0;34m\u001b[0m\u001b[0m\n\u001b[1;32m   3089\u001b[0m         \u001b[0mdata\u001b[0m \u001b[0;34m=\u001b[0m \u001b[0mself\u001b[0m\u001b[0;34m.\u001b[0m\u001b[0m_orig\u001b[0m\u001b[0;34m.\u001b[0m\u001b[0mastype\u001b[0m\u001b[0;34m(\u001b[0m\u001b[0mstr\u001b[0m\u001b[0;34m)\u001b[0m \u001b[0;32mif\u001b[0m \u001b[0mself\u001b[0m\u001b[0;34m.\u001b[0m\u001b[0m_is_categorical\u001b[0m \u001b[0;32melse\u001b[0m \u001b[0mself\u001b[0m\u001b[0;34m.\u001b[0m\u001b[0m_parent\u001b[0m\u001b[0;34m\u001b[0m\u001b[0;34m\u001b[0m\u001b[0m\n\u001b[0;32m-> 3090\u001b[0;31m         \u001b[0mresult\u001b[0m\u001b[0;34m,\u001b[0m \u001b[0mname\u001b[0m \u001b[0;34m=\u001b[0m \u001b[0mstr_get_dummies\u001b[0m\u001b[0;34m(\u001b[0m\u001b[0mdata\u001b[0m\u001b[0;34m,\u001b[0m \u001b[0msep\u001b[0m\u001b[0;34m)\u001b[0m\u001b[0;34m\u001b[0m\u001b[0;34m\u001b[0m\u001b[0m\n\u001b[0m\u001b[1;32m   3091\u001b[0m         return self._wrap_result(\n\u001b[1;32m   3092\u001b[0m             \u001b[0mresult\u001b[0m\u001b[0;34m,\u001b[0m\u001b[0;34m\u001b[0m\u001b[0;34m\u001b[0m\u001b[0m\n",
      "\u001b[0;32m~/.local/lib/python3.6/site-packages/pandas/core/strings.py\u001b[0m in \u001b[0;36mstr_get_dummies\u001b[0;34m(arr, sep)\u001b[0m\n\u001b[1;32m   1222\u001b[0m     \u001b[0mtags\u001b[0m \u001b[0;34m=\u001b[0m \u001b[0msorted\u001b[0m\u001b[0;34m(\u001b[0m\u001b[0mtags\u001b[0m \u001b[0;34m-\u001b[0m \u001b[0;34m{\u001b[0m\u001b[0;34m\"\"\u001b[0m\u001b[0;34m}\u001b[0m\u001b[0;34m)\u001b[0m\u001b[0;34m\u001b[0m\u001b[0;34m\u001b[0m\u001b[0m\n\u001b[1;32m   1223\u001b[0m \u001b[0;34m\u001b[0m\u001b[0m\n\u001b[0;32m-> 1224\u001b[0;31m     \u001b[0mdummies\u001b[0m \u001b[0;34m=\u001b[0m \u001b[0mnp\u001b[0m\u001b[0;34m.\u001b[0m\u001b[0mempty\u001b[0m\u001b[0;34m(\u001b[0m\u001b[0;34m(\u001b[0m\u001b[0mlen\u001b[0m\u001b[0;34m(\u001b[0m\u001b[0marr\u001b[0m\u001b[0;34m)\u001b[0m\u001b[0;34m,\u001b[0m \u001b[0mlen\u001b[0m\u001b[0;34m(\u001b[0m\u001b[0mtags\u001b[0m\u001b[0;34m)\u001b[0m\u001b[0;34m)\u001b[0m\u001b[0;34m,\u001b[0m \u001b[0mdtype\u001b[0m\u001b[0;34m=\u001b[0m\u001b[0mnp\u001b[0m\u001b[0;34m.\u001b[0m\u001b[0mint64\u001b[0m\u001b[0;34m)\u001b[0m\u001b[0;34m\u001b[0m\u001b[0;34m\u001b[0m\u001b[0m\n\u001b[0m\u001b[1;32m   1225\u001b[0m \u001b[0;34m\u001b[0m\u001b[0m\n\u001b[1;32m   1226\u001b[0m     \u001b[0;32mfor\u001b[0m \u001b[0mi\u001b[0m\u001b[0;34m,\u001b[0m \u001b[0mt\u001b[0m \u001b[0;32min\u001b[0m \u001b[0menumerate\u001b[0m\u001b[0;34m(\u001b[0m\u001b[0mtags\u001b[0m\u001b[0;34m)\u001b[0m\u001b[0;34m:\u001b[0m\u001b[0;34m\u001b[0m\u001b[0;34m\u001b[0m\u001b[0m\n",
      "\u001b[0;31mMemoryError\u001b[0m: Unable to allocate 4.80 TiB for an array with shape (3507990, 187906) and data type int64"
     ]
    }
   ],
   "source": [
    "columns_to_dummies =['context_type', 'context_value','page_type',\n",
    "       'previous_page_type', 'device_category', 'device_platform', 'user_tier',\n",
    "       'user_country', 'week', 'week_day',]\n",
    "ntraindf = train_df.copy()\n",
    "for column in columns_to_dummies:\n",
    "    print(column)\n",
    "    if column in ['context_type', 'context_value']:\n",
    "#         column_values = ntraindf[column].map(lambda x: x if x == None else x.split(','))\n",
    "#         unique_values = column_values.explode().unique()\n",
    "#         int_mapping = {uv: str(i) for i, uv in enumerate(unique_values)}\n",
    "#         column_values = column_values.map(lambda x: x if x == None else list(map(lambda y: int_mapping[y],x))).map(lambda x: x if x==None else ','.join(x))\n",
    "        ntraindf = pd.concat([ntraindf,ntraindf[column].str.get_dummies(',')],axis=1)\n",
    "    else:\n",
    "        ntraindf = pd.concat([ntraindf,pd.get_dummies(ntraindf[column])],axis=1)\n",
    "    del ntraindf[column]\n",
    "ntraindf.head()"
   ]
  },
  {
   "cell_type": "code",
   "execution_count": 3,
   "metadata": {},
   "outputs": [
    {
     "name": "stdout",
     "output_type": "stream",
     "text": [
      "Num users: 219035 Num items: 443150 Num user-item pair unique observations: 3507990\n",
      "Train Sparsity: 99.9963860%\n",
      "Users unique items clicked 408263\n",
      "number of sessions per user count\n",
      "1      163423\n",
      "2       24948\n",
      "3        8709\n",
      "4        4053\n",
      "5        2192\n",
      "        ...  \n",
      "55          1\n",
      "43          1\n",
      "53          1\n",
      "45          1\n",
      "376         1\n",
      "Name: session_id, Length: 68, dtype: int64\n",
      "number of queries per user count\n",
      "1      103095\n",
      "2       42970\n",
      "3       21847\n",
      "4       12408\n",
      "5        7498\n",
      "        ...  \n",
      "167         1\n",
      "130         1\n",
      "206         1\n",
      "343         1\n",
      "126         1\n",
      "Name: query_id, Length: 139, dtype: int64\n",
      "       product_price          week      week_day      is_click\n",
      "count   3.507990e+06  3.507990e+06  3.507990e+06  3.507990e+06\n",
      "mean    1.691022e-03  5.065429e+00  2.941093e+00  1.716533e-01\n",
      "std     1.245486e-02  1.901958e+00  1.988291e+00  3.770789e-01\n",
      "min     0.000000e+00  1.000000e+00  0.000000e+00  0.000000e+00\n",
      "25%     3.295741e-04  3.000000e+00  1.000000e+00  0.000000e+00\n",
      "50%     6.202834e-04  5.000000e+00  3.000000e+00  0.000000e+00\n",
      "75%     1.166586e-03  7.000000e+00  5.000000e+00  0.000000e+00\n",
      "max     1.000000e+00  8.000000e+00  6.000000e+00  1.000000e+00\n",
      "page_type                  5\n",
      "previous_page_type        23\n",
      "device_category            3\n",
      "device_platform            2\n",
      "user_tier                  6\n",
      "user_country             196\n",
      "context_type               4\n",
      "context_value         189571\n",
      "dtype: int64\n",
      "['designer_id' 'product_id' 'designer_id,category_id' None 'category_id']\n"
     ]
    }
   ],
   "source": [
    "train_normalized_df, test_normalized_df, attributes_df, user_int_ids, product_int_ids = dataset.farfetch_train_test_normalization(\n",
    "    dataset.parquet_load(file_name=f'data_phase1/train.parquet'),\n",
    "    # dataset.parquet_load(file_name=f'data_phase1/data/train_one_split.parquet'),\n",
    "    dataset.parquet_load(file_name='data_phase1/validation.parquet'),\n",
    "    # dataset.parquet_load(file_name='data_phase1/data/test_one_split.parquet'),\n",
    "    dataset.parquet_load(file_name='data_phase1/attributes.parquet'))\n",
    "\n",
    "\n",
    "\n",
    "num_users = len(user_int_ids)\n",
    "num_items = len(product_int_ids)\n",
    "total_observations = len(train_normalized_df)\n",
    "\n",
    "print('Num users: {} Num items: {} Num user-item pair unique observations: {}'.format(num_users, num_items,total_observations))\n",
    "print('Train Sparsity: {:.7%}'.format(1-total_observations/(num_users*num_items)))\n",
    "print('Users unique items clicked {}'.format(len(train_normalized_df.product_id.unique())))\n",
    "\n",
    "train_df = dataset.parquet_load(file_name=f'data_phase1/train.parquet')\n",
    "print('number of sessions per user count')\n",
    "print(train_df.groupby('user_id')['session_id'].nunique().value_counts())\n",
    "print('number of queries per user count')\n",
    "print(train_df.groupby('user_id')['query_id'].nunique().value_counts())\n",
    "# print('Users unique items consumed {}'.format())\n",
    "print(train_df.describe())\n",
    "\n",
    "\n",
    "print(train_df[['page_type','previous_page_type','device_category','device_platform','user_tier','user_country','context_type','context_value']].nunique())\n",
    "\n",
    "print(train_df['context_type'].unique())"
   ]
  },
  {
   "cell_type": "code",
   "execution_count": 20,
   "metadata": {},
   "outputs": [
    {
     "data": {
      "text/plain": [
       "'e5e4c71b1b9456dafece1338762d4ee3db698cf32c384c7f95cd5657bdb417c6'"
      ]
     },
     "execution_count": 20,
     "metadata": {},
     "output_type": "execute_result"
    }
   ],
   "source": [
    "train_df.user_id.iloc[0]"
   ]
  },
  {
   "cell_type": "code",
   "execution_count": null,
   "metadata": {},
   "outputs": [],
   "source": []
  }
 ],
 "metadata": {
  "kernelspec": {
   "display_name": "Python 3",
   "language": "python",
   "name": "python3"
  },
  "language_info": {
   "codemirror_mode": {
    "name": "ipython",
    "version": 3
   },
   "file_extension": ".py",
   "mimetype": "text/x-python",
   "name": "python",
   "nbconvert_exporter": "python",
   "pygments_lexer": "ipython3",
   "version": "3.8.5"
  }
 },
 "nbformat": 4,
 "nbformat_minor": 2
}
