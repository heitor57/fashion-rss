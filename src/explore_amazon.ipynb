{
 "cells": [
  {
   "cell_type": "code",
   "execution_count": 1,
   "metadata": {
    "id": "f5NDXrN2CtH7"
   },
   "outputs": [],
   "source": [
    "import os\n",
    "import json\n",
    "import gzip\n",
    "import pandas as pd\n",
    "from urllib.request import urlopen"
   ]
  },
  {
   "cell_type": "code",
   "execution_count": 15,
   "metadata": {
    "colab": {
     "base_uri": "https://localhost:8080/",
     "height": 71
    },
    "id": "7igYuRaV4bF7",
    "outputId": "c0595e40-c850-43b2-d32a-43cb2cbd0e1f"
   },
   "outputs": [
    {
     "name": "stdout",
     "output_type": "stream",
     "text": [
      "186637\n",
      "{'title': 'Slime Time Fall Fest [With CDROM and Collector Cards and Neutron Balls, Incredi-Ball and Glow Stick Necklace, Paper Fram', 'brand': 'Group Publishing (CO)', 'feature': ['Product Dimensions:\\n                    \\n8.7 x 3.6 x 11.4 inches', 'Shipping Weight:\\n                    \\n2.4 pounds'], 'rank': '13,052,976inClothing,Shoesamp;Jewelry(', 'date': '8.70 inches', 'asin': '0764443682', 'imageURL': ['https://images-na.ssl-images-amazon.com/images/I/51bSrINiWpL._US40_.jpg'], 'imageURLHighRes': ['https://images-na.ssl-images-amazon.com/images/I/51bSrINiWpL.jpg']}\n"
     ]
    }
   ],
   "source": [
    "### load the meta data\n",
    "\n",
    "data = []\n",
    "with gzip.open('data/meta_AMAZON_FASHION.json.gz') as f:\n",
    "    for l in f:\n",
    "        data.append(json.loads(l.strip()))\n",
    "    \n",
    "# total length of list, this number equals total number of products\n",
    "print(len(data))\n",
    "\n",
    "# first row of the list\n",
    "print(data[0])"
   ]
  },
  {
   "cell_type": "code",
   "execution_count": null,
   "metadata": {
    "colab": {
     "base_uri": "https://localhost:8080/",
     "height": 34
    },
    "id": "knpHP22w4scK",
    "outputId": "b75be678-1377-4b8c-b689-56e1eab703b8"
   },
   "outputs": [
    {
     "name": "stdout",
     "output_type": "stream",
     "text": [
      "18772\n"
     ]
    }
   ],
   "source": [
    "# convert list into pandas dataframe\n",
    "\n",
    "df = pd.DataFrame.from_dict(data)\n",
    "\n",
    "print(len(df))"
   ]
  },
  {
   "cell_type": "code",
   "execution_count": null,
   "metadata": {
    "colab": {
     "base_uri": "https://localhost:8080/",
     "height": 51
    },
    "id": "LgWrDtZ94w89",
    "outputId": "7e22e4ab-1622-4452-ce81-54e85ef92522"
   },
   "outputs": [
    {
     "name": "stdout",
     "output_type": "stream",
     "text": [
      "135\n",
      "18637\n"
     ]
    }
   ],
   "source": [
    "### remove rows with unformatted title (i.e. some 'title' may still contain html style content)\n",
    "\n",
    "df3 = df.fillna('')\n",
    "df4 = df3[df3.title.str.contains('getTime')] # unformatted rows\n",
    "df5 = df3[~df3.title.str.contains('getTime')] # filter those unformatted rows\n",
    "print(len(df4))\n",
    "print(len(df5))"
   ]
  },
  {
   "cell_type": "code",
   "execution_count": null,
   "metadata": {
    "colab": {
     "base_uri": "https://localhost:8080/",
     "height": 306
    },
    "id": "7Vq32rQd5D9W",
    "outputId": "2965e85b-d993-4520-a992-d42e0cec3f01"
   },
   "outputs": [
    {
     "data": {
      "text/plain": [
       "description                                                      \n",
       "title           var aPageStart = (new Date()).getTime();\\nvar ...\n",
       "image                                                            \n",
       "brand                                              DS Miller Inc.\n",
       "rank            [>#1,826,312 in Electronics (See Top 100 in El...\n",
       "main_cat                                                Computers\n",
       "date                                                March 1, 2010\n",
       "asin                                                   B0016C5EXY\n",
       "feature                                                          \n",
       "tech1                                                            \n",
       "also_buy                                                         \n",
       "price                                                            \n",
       "also_view                                                        \n",
       "tech2                                                            \n",
       "details                                                          \n",
       "similar_item                                                     \n",
       "Name: 1186, dtype: object"
      ]
     },
     "execution_count": 7,
     "metadata": {
      "tags": []
     },
     "output_type": "execute_result"
    }
   ],
   "source": [
    "# how those unformatted rows look like\n",
    "df4.iloc[0]"
   ]
  },
  {
   "cell_type": "code",
   "execution_count": 3,
   "metadata": {
    "id": "6LBLzsFU5LJ_"
   },
   "outputs": [],
   "source": [
    "def parse(path):\n",
    "  g = gzip.open(path, 'r')\n",
    "  for l in g:\n",
    "    yield json.loads(l)\n",
    "    \n",
    "def getDF(path):\n",
    "  i = 0\n",
    "  df = {}\n",
    "  for d in parse(path):\n",
    "    df[i] = d\n",
    "    i += 1\n",
    "  return pd.DataFrame.from_dict(df, orient='index')\n"
   ]
  },
  {
   "cell_type": "code",
   "execution_count": 4,
   "metadata": {
    "id": "WqZcdGp-5cui"
   },
   "outputs": [],
   "source": [
    "df = getDF('data/AMAZON_FASHION_5.json.gz')"
   ]
  },
  {
   "cell_type": "code",
   "execution_count": 8,
   "metadata": {},
   "outputs": [],
   "source": [
    "df=df.drop_duplicates(['reviewerID','asin'])"
   ]
  },
  {
   "cell_type": "code",
   "execution_count": 9,
   "metadata": {},
   "outputs": [
    {
     "data": {
      "text/html": [
       "<div>\n",
       "<style scoped>\n",
       "    .dataframe tbody tr th:only-of-type {\n",
       "        vertical-align: middle;\n",
       "    }\n",
       "\n",
       "    .dataframe tbody tr th {\n",
       "        vertical-align: top;\n",
       "    }\n",
       "\n",
       "    .dataframe thead th {\n",
       "        text-align: right;\n",
       "    }\n",
       "</style>\n",
       "<table border=\"1\" class=\"dataframe\">\n",
       "  <thead>\n",
       "    <tr style=\"text-align: right;\">\n",
       "      <th></th>\n",
       "      <th>overall</th>\n",
       "      <th>verified</th>\n",
       "      <th>reviewTime</th>\n",
       "      <th>reviewerID</th>\n",
       "      <th>asin</th>\n",
       "      <th>style</th>\n",
       "      <th>reviewerName</th>\n",
       "      <th>reviewText</th>\n",
       "      <th>summary</th>\n",
       "      <th>unixReviewTime</th>\n",
       "      <th>vote</th>\n",
       "      <th>image</th>\n",
       "    </tr>\n",
       "  </thead>\n",
       "  <tbody>\n",
       "    <tr>\n",
       "      <th>0</th>\n",
       "      <td>5.0</td>\n",
       "      <td>True</td>\n",
       "      <td>09 4, 2015</td>\n",
       "      <td>ALJ66O1Y6SLHA</td>\n",
       "      <td>B000K2PJ4K</td>\n",
       "      <td>{'Size:': ' Big Boys', 'Color:': ' Blue/Orange'}</td>\n",
       "      <td>Tonya B.</td>\n",
       "      <td>Great product and price!</td>\n",
       "      <td>Five Stars</td>\n",
       "      <td>1441324800</td>\n",
       "      <td>NaN</td>\n",
       "      <td>NaN</td>\n",
       "    </tr>\n",
       "    <tr>\n",
       "      <th>5</th>\n",
       "      <td>3.0</td>\n",
       "      <td>True</td>\n",
       "      <td>05 6, 2015</td>\n",
       "      <td>A3W11493KS6Z2L</td>\n",
       "      <td>B000K2PJ4K</td>\n",
       "      <td>{'Size:': ' Little Boys', 'Color:': ' White/Bl...</td>\n",
       "      <td>NaeNae</td>\n",
       "      <td>Waaay too small. Will use for futur children!</td>\n",
       "      <td>Oops!</td>\n",
       "      <td>1430870400</td>\n",
       "      <td>NaN</td>\n",
       "      <td>NaN</td>\n",
       "    </tr>\n",
       "    <tr>\n",
       "      <th>10</th>\n",
       "      <td>2.0</td>\n",
       "      <td>True</td>\n",
       "      <td>01 25, 2018</td>\n",
       "      <td>A3HX4X3TIABWOV</td>\n",
       "      <td>B000KPIHQ4</td>\n",
       "      <td>{'Size Name:': ' Men's 6-6.5, Women's 8-8.5', ...</td>\n",
       "      <td>Denise A. Conte</td>\n",
       "      <td>Relieved my Plantar Fascitis for 3 Days. Then ...</td>\n",
       "      <td>These were recommended by my Podiatrist</td>\n",
       "      <td>1516838400</td>\n",
       "      <td>NaN</td>\n",
       "      <td>NaN</td>\n",
       "    </tr>\n",
       "    <tr>\n",
       "      <th>11</th>\n",
       "      <td>2.0</td>\n",
       "      <td>True</td>\n",
       "      <td>01 5, 2017</td>\n",
       "      <td>AW8UBYMNJ894V</td>\n",
       "      <td>B000KPIHQ4</td>\n",
       "      <td>{'Size Name:': ' Men's 8-8.5, Women's 10-10.5'...</td>\n",
       "      <td>Cognizant Consumer</td>\n",
       "      <td>This is my 6th pair and they are the best thin...</td>\n",
       "      <td>Not the same as all my other pairs.</td>\n",
       "      <td>1483574400</td>\n",
       "      <td>NaN</td>\n",
       "      <td>NaN</td>\n",
       "    </tr>\n",
       "    <tr>\n",
       "      <th>12</th>\n",
       "      <td>5.0</td>\n",
       "      <td>True</td>\n",
       "      <td>10 17, 2016</td>\n",
       "      <td>A265UZVOZWTTXQ</td>\n",
       "      <td>B000KPIHQ4</td>\n",
       "      <td>NaN</td>\n",
       "      <td>William_Jasper</td>\n",
       "      <td>We have used these inserts for years.  They pr...</td>\n",
       "      <td>Great inserts</td>\n",
       "      <td>1476662400</td>\n",
       "      <td>NaN</td>\n",
       "      <td>NaN</td>\n",
       "    </tr>\n",
       "    <tr>\n",
       "      <th>...</th>\n",
       "      <td>...</td>\n",
       "      <td>...</td>\n",
       "      <td>...</td>\n",
       "      <td>...</td>\n",
       "      <td>...</td>\n",
       "      <td>...</td>\n",
       "      <td>...</td>\n",
       "      <td>...</td>\n",
       "      <td>...</td>\n",
       "      <td>...</td>\n",
       "      <td>...</td>\n",
       "      <td>...</td>\n",
       "    </tr>\n",
       "    <tr>\n",
       "      <th>3171</th>\n",
       "      <td>5.0</td>\n",
       "      <td>True</td>\n",
       "      <td>07 2, 2018</td>\n",
       "      <td>A2077NII5H62R2</td>\n",
       "      <td>B005AGO4LU</td>\n",
       "      <td>{'Size:': ' 8.5 B(M) US', 'Color:': ' Green Gl...</td>\n",
       "      <td>Amazon Customer</td>\n",
       "      <td>Perfect fit!</td>\n",
       "      <td>Five Stars</td>\n",
       "      <td>1530489600</td>\n",
       "      <td>NaN</td>\n",
       "      <td>NaN</td>\n",
       "    </tr>\n",
       "    <tr>\n",
       "      <th>3172</th>\n",
       "      <td>5.0</td>\n",
       "      <td>True</td>\n",
       "      <td>06 28, 2018</td>\n",
       "      <td>A2IBS6PIPAGAB5</td>\n",
       "      <td>B005AGO4LU</td>\n",
       "      <td>{'Size:': ' 5 B(M) US', 'Color:': ' Wolf Grey/...</td>\n",
       "      <td>J. Avila</td>\n",
       "      <td>My favorite cross trainers!</td>\n",
       "      <td>Comfortable</td>\n",
       "      <td>1530144000</td>\n",
       "      <td>NaN</td>\n",
       "      <td>NaN</td>\n",
       "    </tr>\n",
       "    <tr>\n",
       "      <th>3173</th>\n",
       "      <td>5.0</td>\n",
       "      <td>True</td>\n",
       "      <td>06 25, 2018</td>\n",
       "      <td>A1GTC5EVSJNCQ8</td>\n",
       "      <td>B005AGO4LU</td>\n",
       "      <td>{'Size:': ' 8 B(M) US', 'Color:': ' Blue Tint/...</td>\n",
       "      <td>Amazon Customer</td>\n",
       "      <td>Love them fit perfect</td>\n",
       "      <td>Five Stars</td>\n",
       "      <td>1529884800</td>\n",
       "      <td>NaN</td>\n",
       "      <td>NaN</td>\n",
       "    </tr>\n",
       "    <tr>\n",
       "      <th>3174</th>\n",
       "      <td>5.0</td>\n",
       "      <td>True</td>\n",
       "      <td>06 20, 2018</td>\n",
       "      <td>A311XHHLM12MUT</td>\n",
       "      <td>B005AGO4LU</td>\n",
       "      <td>{'Size:': ' 9 B(M) US', 'Color:': ' Blue Tint/...</td>\n",
       "      <td>Peter</td>\n",
       "      <td>Favorite Nike shoe ever! The flex sole is exce...</td>\n",
       "      <td>Love them!</td>\n",
       "      <td>1529452800</td>\n",
       "      <td>NaN</td>\n",
       "      <td>NaN</td>\n",
       "    </tr>\n",
       "    <tr>\n",
       "      <th>3175</th>\n",
       "      <td>5.0</td>\n",
       "      <td>True</td>\n",
       "      <td>06 16, 2018</td>\n",
       "      <td>A135SGOQMVWABQ</td>\n",
       "      <td>B005AGO4LU</td>\n",
       "      <td>{'Size:': ' 9 B(M) US', 'Color:': ' Black/Whit...</td>\n",
       "      <td>Susan</td>\n",
       "      <td>I wear these everyday to work, the gym, etc.</td>\n",
       "      <td>Five Stars</td>\n",
       "      <td>1529107200</td>\n",
       "      <td>NaN</td>\n",
       "      <td>NaN</td>\n",
       "    </tr>\n",
       "  </tbody>\n",
       "</table>\n",
       "<p>3042 rows × 12 columns</p>\n",
       "</div>"
      ],
      "text/plain": [
       "      overall  verified   reviewTime      reviewerID        asin  \\\n",
       "0         5.0      True   09 4, 2015   ALJ66O1Y6SLHA  B000K2PJ4K   \n",
       "5         3.0      True   05 6, 2015  A3W11493KS6Z2L  B000K2PJ4K   \n",
       "10        2.0      True  01 25, 2018  A3HX4X3TIABWOV  B000KPIHQ4   \n",
       "11        2.0      True   01 5, 2017   AW8UBYMNJ894V  B000KPIHQ4   \n",
       "12        5.0      True  10 17, 2016  A265UZVOZWTTXQ  B000KPIHQ4   \n",
       "...       ...       ...          ...             ...         ...   \n",
       "3171      5.0      True   07 2, 2018  A2077NII5H62R2  B005AGO4LU   \n",
       "3172      5.0      True  06 28, 2018  A2IBS6PIPAGAB5  B005AGO4LU   \n",
       "3173      5.0      True  06 25, 2018  A1GTC5EVSJNCQ8  B005AGO4LU   \n",
       "3174      5.0      True  06 20, 2018  A311XHHLM12MUT  B005AGO4LU   \n",
       "3175      5.0      True  06 16, 2018  A135SGOQMVWABQ  B005AGO4LU   \n",
       "\n",
       "                                                  style        reviewerName  \\\n",
       "0      {'Size:': ' Big Boys', 'Color:': ' Blue/Orange'}            Tonya B.   \n",
       "5     {'Size:': ' Little Boys', 'Color:': ' White/Bl...              NaeNae   \n",
       "10    {'Size Name:': ' Men's 6-6.5, Women's 8-8.5', ...     Denise A. Conte   \n",
       "11    {'Size Name:': ' Men's 8-8.5, Women's 10-10.5'...  Cognizant Consumer   \n",
       "12                                                  NaN      William_Jasper   \n",
       "...                                                 ...                 ...   \n",
       "3171  {'Size:': ' 8.5 B(M) US', 'Color:': ' Green Gl...     Amazon Customer   \n",
       "3172  {'Size:': ' 5 B(M) US', 'Color:': ' Wolf Grey/...            J. Avila   \n",
       "3173  {'Size:': ' 8 B(M) US', 'Color:': ' Blue Tint/...     Amazon Customer   \n",
       "3174  {'Size:': ' 9 B(M) US', 'Color:': ' Blue Tint/...               Peter   \n",
       "3175  {'Size:': ' 9 B(M) US', 'Color:': ' Black/Whit...               Susan   \n",
       "\n",
       "                                             reviewText  \\\n",
       "0                              Great product and price!   \n",
       "5         Waaay too small. Will use for futur children!   \n",
       "10    Relieved my Plantar Fascitis for 3 Days. Then ...   \n",
       "11    This is my 6th pair and they are the best thin...   \n",
       "12    We have used these inserts for years.  They pr...   \n",
       "...                                                 ...   \n",
       "3171                                       Perfect fit!   \n",
       "3172                        My favorite cross trainers!   \n",
       "3173                              Love them fit perfect   \n",
       "3174  Favorite Nike shoe ever! The flex sole is exce...   \n",
       "3175       I wear these everyday to work, the gym, etc.   \n",
       "\n",
       "                                      summary  unixReviewTime vote image  \n",
       "0                                  Five Stars      1441324800  NaN   NaN  \n",
       "5                                       Oops!      1430870400  NaN   NaN  \n",
       "10    These were recommended by my Podiatrist      1516838400  NaN   NaN  \n",
       "11        Not the same as all my other pairs.      1483574400  NaN   NaN  \n",
       "12                              Great inserts      1476662400  NaN   NaN  \n",
       "...                                       ...             ...  ...   ...  \n",
       "3171                               Five Stars      1530489600  NaN   NaN  \n",
       "3172                              Comfortable      1530144000  NaN   NaN  \n",
       "3173                               Five Stars      1529884800  NaN   NaN  \n",
       "3174                               Love them!      1529452800  NaN   NaN  \n",
       "3175                               Five Stars      1529107200  NaN   NaN  \n",
       "\n",
       "[3042 rows x 12 columns]"
      ]
     },
     "execution_count": 9,
     "metadata": {},
     "output_type": "execute_result"
    }
   ],
   "source": [
    "df"
   ]
  },
  {
   "cell_type": "code",
   "execution_count": 11,
   "metadata": {},
   "outputs": [
    {
     "data": {
      "text/html": [
       "<div>\n",
       "<style scoped>\n",
       "    .dataframe tbody tr th:only-of-type {\n",
       "        vertical-align: middle;\n",
       "    }\n",
       "\n",
       "    .dataframe tbody tr th {\n",
       "        vertical-align: top;\n",
       "    }\n",
       "\n",
       "    .dataframe thead th {\n",
       "        text-align: right;\n",
       "    }\n",
       "</style>\n",
       "<table border=\"1\" class=\"dataframe\">\n",
       "  <thead>\n",
       "    <tr style=\"text-align: right;\">\n",
       "      <th></th>\n",
       "      <th>overall</th>\n",
       "      <th>unixReviewTime</th>\n",
       "    </tr>\n",
       "  </thead>\n",
       "  <tbody>\n",
       "    <tr>\n",
       "      <th>count</th>\n",
       "      <td>3042.000000</td>\n",
       "      <td>3.042000e+03</td>\n",
       "    </tr>\n",
       "    <tr>\n",
       "      <th>mean</th>\n",
       "      <td>4.419790</td>\n",
       "      <td>1.493214e+09</td>\n",
       "    </tr>\n",
       "    <tr>\n",
       "      <th>std</th>\n",
       "      <td>1.023712</td>\n",
       "      <td>2.176668e+07</td>\n",
       "    </tr>\n",
       "    <tr>\n",
       "      <th>min</th>\n",
       "      <td>1.000000</td>\n",
       "      <td>1.261699e+09</td>\n",
       "    </tr>\n",
       "    <tr>\n",
       "      <th>25%</th>\n",
       "      <td>4.000000</td>\n",
       "      <td>1.480291e+09</td>\n",
       "    </tr>\n",
       "    <tr>\n",
       "      <th>50%</th>\n",
       "      <td>5.000000</td>\n",
       "      <td>1.492992e+09</td>\n",
       "    </tr>\n",
       "    <tr>\n",
       "      <th>75%</th>\n",
       "      <td>5.000000</td>\n",
       "      <td>1.508976e+09</td>\n",
       "    </tr>\n",
       "    <tr>\n",
       "      <th>max</th>\n",
       "      <td>5.000000</td>\n",
       "      <td>1.530749e+09</td>\n",
       "    </tr>\n",
       "  </tbody>\n",
       "</table>\n",
       "</div>"
      ],
      "text/plain": [
       "           overall  unixReviewTime\n",
       "count  3042.000000    3.042000e+03\n",
       "mean      4.419790    1.493214e+09\n",
       "std       1.023712    2.176668e+07\n",
       "min       1.000000    1.261699e+09\n",
       "25%       4.000000    1.480291e+09\n",
       "50%       5.000000    1.492992e+09\n",
       "75%       5.000000    1.508976e+09\n",
       "max       5.000000    1.530749e+09"
      ]
     },
     "execution_count": 11,
     "metadata": {},
     "output_type": "execute_result"
    }
   ],
   "source": [
    "df.describe()"
   ]
  },
  {
   "cell_type": "code",
   "execution_count": 14,
   "metadata": {},
   "outputs": [
    {
     "data": {
      "text/plain": [
       "5"
      ]
     },
     "execution_count": 14,
     "metadata": {},
     "output_type": "execute_result"
    }
   ],
   "source": [
    "df['overall'].nunique()"
   ]
  }
 ],
 "metadata": {
  "colab": {
   "collapsed_sections": [],
   "name": "parse_and_clean_meta_data.ipynb",
   "provenance": []
  },
  "kernelspec": {
   "display_name": "Python 3",
   "language": "python",
   "name": "python3"
  },
  "language_info": {
   "codemirror_mode": {
    "name": "ipython",
    "version": 3
   },
   "file_extension": ".py",
   "mimetype": "text/x-python",
   "name": "python",
   "nbconvert_exporter": "python",
   "pygments_lexer": "ipython3",
   "version": "3.9.2"
  }
 },
 "nbformat": 4,
 "nbformat_minor": 1
}
